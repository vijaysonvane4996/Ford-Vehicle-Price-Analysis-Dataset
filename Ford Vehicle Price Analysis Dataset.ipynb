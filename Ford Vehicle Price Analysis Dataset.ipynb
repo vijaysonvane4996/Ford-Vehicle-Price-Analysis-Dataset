{
 "cells": [
  {
   "cell_type": "markdown",
   "id": "fdfa291f-5700-455a-969a-fe484550c5bb",
   "metadata": {},
   "source": [
    "## Business Case :- Ford Vehicle Price Analysis Dataset"
   ]
  },
  {
   "cell_type": "code",
   "execution_count": 1,
   "id": "1a62b4c7-f88a-4a64-8e14-75c1eca84b0f",
   "metadata": {},
   "outputs": [],
   "source": [
    "import pandas as pd\n",
    "import numpy as np\n",
    "import seaborn as sns\n",
    "import matplotlib.pyplot as plt\n",
    "%matplotlib inline\n",
    "import warnings\n",
    "warnings.filterwarnings('ignore')"
   ]
  },
  {
   "cell_type": "code",
   "execution_count": 2,
   "id": "cdf48f96-c984-4160-968a-c03bb912d19f",
   "metadata": {},
   "outputs": [],
   "source": [
    "data=pd.read_csv('ford.csv')"
   ]
  },
  {
   "cell_type": "code",
   "execution_count": 3,
   "id": "2707711f-5827-40de-b1f9-d1e005f96c20",
   "metadata": {},
   "outputs": [
    {
     "data": {
      "text/html": [
       "<div>\n",
       "<style scoped>\n",
       "    .dataframe tbody tr th:only-of-type {\n",
       "        vertical-align: middle;\n",
       "    }\n",
       "\n",
       "    .dataframe tbody tr th {\n",
       "        vertical-align: top;\n",
       "    }\n",
       "\n",
       "    .dataframe thead th {\n",
       "        text-align: right;\n",
       "    }\n",
       "</style>\n",
       "<table border=\"1\" class=\"dataframe\">\n",
       "  <thead>\n",
       "    <tr style=\"text-align: right;\">\n",
       "      <th></th>\n",
       "      <th>model</th>\n",
       "      <th>year</th>\n",
       "      <th>price</th>\n",
       "      <th>transmission</th>\n",
       "      <th>mileage</th>\n",
       "      <th>fuelType</th>\n",
       "      <th>tax</th>\n",
       "      <th>mpg</th>\n",
       "      <th>engineSize</th>\n",
       "    </tr>\n",
       "  </thead>\n",
       "  <tbody>\n",
       "    <tr>\n",
       "      <th>0</th>\n",
       "      <td>Fiesta</td>\n",
       "      <td>2017</td>\n",
       "      <td>12000</td>\n",
       "      <td>Automatic</td>\n",
       "      <td>15944</td>\n",
       "      <td>Petrol</td>\n",
       "      <td>150</td>\n",
       "      <td>57.7</td>\n",
       "      <td>1.0</td>\n",
       "    </tr>\n",
       "    <tr>\n",
       "      <th>1</th>\n",
       "      <td>Focus</td>\n",
       "      <td>2018</td>\n",
       "      <td>14000</td>\n",
       "      <td>Manual</td>\n",
       "      <td>9083</td>\n",
       "      <td>Petrol</td>\n",
       "      <td>150</td>\n",
       "      <td>57.7</td>\n",
       "      <td>1.0</td>\n",
       "    </tr>\n",
       "    <tr>\n",
       "      <th>2</th>\n",
       "      <td>Focus</td>\n",
       "      <td>2017</td>\n",
       "      <td>13000</td>\n",
       "      <td>Manual</td>\n",
       "      <td>12456</td>\n",
       "      <td>Petrol</td>\n",
       "      <td>150</td>\n",
       "      <td>57.7</td>\n",
       "      <td>1.0</td>\n",
       "    </tr>\n",
       "    <tr>\n",
       "      <th>3</th>\n",
       "      <td>Fiesta</td>\n",
       "      <td>2019</td>\n",
       "      <td>17500</td>\n",
       "      <td>Manual</td>\n",
       "      <td>10460</td>\n",
       "      <td>Petrol</td>\n",
       "      <td>145</td>\n",
       "      <td>40.3</td>\n",
       "      <td>1.5</td>\n",
       "    </tr>\n",
       "    <tr>\n",
       "      <th>4</th>\n",
       "      <td>Fiesta</td>\n",
       "      <td>2019</td>\n",
       "      <td>16500</td>\n",
       "      <td>Automatic</td>\n",
       "      <td>1482</td>\n",
       "      <td>Petrol</td>\n",
       "      <td>145</td>\n",
       "      <td>48.7</td>\n",
       "      <td>1.0</td>\n",
       "    </tr>\n",
       "    <tr>\n",
       "      <th>...</th>\n",
       "      <td>...</td>\n",
       "      <td>...</td>\n",
       "      <td>...</td>\n",
       "      <td>...</td>\n",
       "      <td>...</td>\n",
       "      <td>...</td>\n",
       "      <td>...</td>\n",
       "      <td>...</td>\n",
       "      <td>...</td>\n",
       "    </tr>\n",
       "    <tr>\n",
       "      <th>17961</th>\n",
       "      <td>B-MAX</td>\n",
       "      <td>2017</td>\n",
       "      <td>8999</td>\n",
       "      <td>Manual</td>\n",
       "      <td>16700</td>\n",
       "      <td>Petrol</td>\n",
       "      <td>150</td>\n",
       "      <td>47.1</td>\n",
       "      <td>1.4</td>\n",
       "    </tr>\n",
       "    <tr>\n",
       "      <th>17962</th>\n",
       "      <td>B-MAX</td>\n",
       "      <td>2014</td>\n",
       "      <td>7499</td>\n",
       "      <td>Manual</td>\n",
       "      <td>40700</td>\n",
       "      <td>Petrol</td>\n",
       "      <td>30</td>\n",
       "      <td>57.7</td>\n",
       "      <td>1.0</td>\n",
       "    </tr>\n",
       "    <tr>\n",
       "      <th>17963</th>\n",
       "      <td>Focus</td>\n",
       "      <td>2015</td>\n",
       "      <td>9999</td>\n",
       "      <td>Manual</td>\n",
       "      <td>7010</td>\n",
       "      <td>Diesel</td>\n",
       "      <td>20</td>\n",
       "      <td>67.3</td>\n",
       "      <td>1.6</td>\n",
       "    </tr>\n",
       "    <tr>\n",
       "      <th>17964</th>\n",
       "      <td>KA</td>\n",
       "      <td>2018</td>\n",
       "      <td>8299</td>\n",
       "      <td>Manual</td>\n",
       "      <td>5007</td>\n",
       "      <td>Petrol</td>\n",
       "      <td>145</td>\n",
       "      <td>57.7</td>\n",
       "      <td>1.2</td>\n",
       "    </tr>\n",
       "    <tr>\n",
       "      <th>17965</th>\n",
       "      <td>Focus</td>\n",
       "      <td>2015</td>\n",
       "      <td>8299</td>\n",
       "      <td>Manual</td>\n",
       "      <td>5007</td>\n",
       "      <td>Petrol</td>\n",
       "      <td>22</td>\n",
       "      <td>57.7</td>\n",
       "      <td>1.0</td>\n",
       "    </tr>\n",
       "  </tbody>\n",
       "</table>\n",
       "<p>17966 rows × 9 columns</p>\n",
       "</div>"
      ],
      "text/plain": [
       "         model  year  price transmission  mileage fuelType  tax   mpg  \\\n",
       "0       Fiesta  2017  12000    Automatic    15944   Petrol  150  57.7   \n",
       "1        Focus  2018  14000       Manual     9083   Petrol  150  57.7   \n",
       "2        Focus  2017  13000       Manual    12456   Petrol  150  57.7   \n",
       "3       Fiesta  2019  17500       Manual    10460   Petrol  145  40.3   \n",
       "4       Fiesta  2019  16500    Automatic     1482   Petrol  145  48.7   \n",
       "...        ...   ...    ...          ...      ...      ...  ...   ...   \n",
       "17961    B-MAX  2017   8999       Manual    16700   Petrol  150  47.1   \n",
       "17962    B-MAX  2014   7499       Manual    40700   Petrol   30  57.7   \n",
       "17963    Focus  2015   9999       Manual     7010   Diesel   20  67.3   \n",
       "17964       KA  2018   8299       Manual     5007   Petrol  145  57.7   \n",
       "17965    Focus  2015   8299       Manual     5007   Petrol   22  57.7   \n",
       "\n",
       "       engineSize  \n",
       "0             1.0  \n",
       "1             1.0  \n",
       "2             1.0  \n",
       "3             1.5  \n",
       "4             1.0  \n",
       "...           ...  \n",
       "17961         1.4  \n",
       "17962         1.0  \n",
       "17963         1.6  \n",
       "17964         1.2  \n",
       "17965         1.0  \n",
       "\n",
       "[17966 rows x 9 columns]"
      ]
     },
     "execution_count": 3,
     "metadata": {},
     "output_type": "execute_result"
    }
   ],
   "source": [
    "data"
   ]
  },
  {
   "cell_type": "markdown",
   "id": "4ccb439c-2ea7-447c-ab1e-97c243cf4670",
   "metadata": {},
   "source": [
    "### Domain Analysis\n",
    "\n",
    "- model: The make or model of the car (e.g., Fiesta, Focus).\n",
    "- year: The year of manufacture.\n",
    "- price: The price of the car in the listing.\n",
    "- transmission: The type of transmission (e.g., Automatic, Manual).\n",
    "- mileage: The total distance the car has been driven, likely in miles.\n",
    "- fuelType: The type of fuel the car uses (e.g., Petrol, Diesel).\n",
    "- tax: The road tax or vehicle tax associated with the car.\n",
    "- mpg: Miles per gallon, indicating the fuel efficiency of the car.\n",
    "- engineSize: The size of the car's engine in liters.\n",
    "\n",
    "\n",
    "This dataset is well-suited for analysis in the automotive domain, particularly focusing on the used car market. Here are some potential analyses you could perform:\n",
    "\n",
    "1. **Price Analysis**:\n",
    "   - Investigate the distribution of car prices based on model, year, or mileage.\n",
    "   - Determine which factors (e.g., transmission, engine size) most influence the price of a used car.\n",
    "\n",
    "2. **Fuel Efficiency Analysis**:\n",
    "   - Compare the fuel efficiency (mpg) of different models and engine sizes.\n",
    "   - Analyze how fuel type impacts fuel efficiency.\n",
    "\n",
    "3. **Depreciation Study**:\n",
    "   - Study how the price of cars decreases over time based on their year of manufacture and mileage.\n",
    "\n",
    "4. **Transmission Type Impact**:\n",
    "   - Explore the preference for manual vs. automatic transmission in terms of price and availability.\n",
    "\n",
    "5. **Tax and Engine Size Correlation**:\n",
    "   - Analyze if there's a relationship between the engine size and the tax amount.\n",
    "\n",
    "This dataset offers a comprehensive view of factors that are crucial for both buyers and sellers in the used car market."
   ]
  },
  {
   "cell_type": "code",
   "execution_count": null,
   "id": "0488489b-9cf5-443a-8bfb-d743649db264",
   "metadata": {},
   "outputs": [],
   "source": []
  },
  {
   "cell_type": "markdown",
   "id": "32297f7d-0854-4283-bf68-e22985f97b62",
   "metadata": {},
   "source": [
    "## Basic Check"
   ]
  },
  {
   "cell_type": "code",
   "execution_count": 4,
   "id": "d5f9cc7d-5bdc-4fdc-a1a3-983402e40a02",
   "metadata": {},
   "outputs": [
    {
     "data": {
      "text/html": [
       "<div>\n",
       "<style scoped>\n",
       "    .dataframe tbody tr th:only-of-type {\n",
       "        vertical-align: middle;\n",
       "    }\n",
       "\n",
       "    .dataframe tbody tr th {\n",
       "        vertical-align: top;\n",
       "    }\n",
       "\n",
       "    .dataframe thead th {\n",
       "        text-align: right;\n",
       "    }\n",
       "</style>\n",
       "<table border=\"1\" class=\"dataframe\">\n",
       "  <thead>\n",
       "    <tr style=\"text-align: right;\">\n",
       "      <th></th>\n",
       "      <th>model</th>\n",
       "      <th>year</th>\n",
       "      <th>price</th>\n",
       "      <th>transmission</th>\n",
       "      <th>mileage</th>\n",
       "      <th>fuelType</th>\n",
       "      <th>tax</th>\n",
       "      <th>mpg</th>\n",
       "      <th>engineSize</th>\n",
       "    </tr>\n",
       "  </thead>\n",
       "  <tbody>\n",
       "    <tr>\n",
       "      <th>0</th>\n",
       "      <td>Fiesta</td>\n",
       "      <td>2017</td>\n",
       "      <td>12000</td>\n",
       "      <td>Automatic</td>\n",
       "      <td>15944</td>\n",
       "      <td>Petrol</td>\n",
       "      <td>150</td>\n",
       "      <td>57.7</td>\n",
       "      <td>1.0</td>\n",
       "    </tr>\n",
       "    <tr>\n",
       "      <th>1</th>\n",
       "      <td>Focus</td>\n",
       "      <td>2018</td>\n",
       "      <td>14000</td>\n",
       "      <td>Manual</td>\n",
       "      <td>9083</td>\n",
       "      <td>Petrol</td>\n",
       "      <td>150</td>\n",
       "      <td>57.7</td>\n",
       "      <td>1.0</td>\n",
       "    </tr>\n",
       "    <tr>\n",
       "      <th>2</th>\n",
       "      <td>Focus</td>\n",
       "      <td>2017</td>\n",
       "      <td>13000</td>\n",
       "      <td>Manual</td>\n",
       "      <td>12456</td>\n",
       "      <td>Petrol</td>\n",
       "      <td>150</td>\n",
       "      <td>57.7</td>\n",
       "      <td>1.0</td>\n",
       "    </tr>\n",
       "    <tr>\n",
       "      <th>3</th>\n",
       "      <td>Fiesta</td>\n",
       "      <td>2019</td>\n",
       "      <td>17500</td>\n",
       "      <td>Manual</td>\n",
       "      <td>10460</td>\n",
       "      <td>Petrol</td>\n",
       "      <td>145</td>\n",
       "      <td>40.3</td>\n",
       "      <td>1.5</td>\n",
       "    </tr>\n",
       "    <tr>\n",
       "      <th>4</th>\n",
       "      <td>Fiesta</td>\n",
       "      <td>2019</td>\n",
       "      <td>16500</td>\n",
       "      <td>Automatic</td>\n",
       "      <td>1482</td>\n",
       "      <td>Petrol</td>\n",
       "      <td>145</td>\n",
       "      <td>48.7</td>\n",
       "      <td>1.0</td>\n",
       "    </tr>\n",
       "  </tbody>\n",
       "</table>\n",
       "</div>"
      ],
      "text/plain": [
       "     model  year  price transmission  mileage fuelType  tax   mpg  engineSize\n",
       "0   Fiesta  2017  12000    Automatic    15944   Petrol  150  57.7         1.0\n",
       "1    Focus  2018  14000       Manual     9083   Petrol  150  57.7         1.0\n",
       "2    Focus  2017  13000       Manual    12456   Petrol  150  57.7         1.0\n",
       "3   Fiesta  2019  17500       Manual    10460   Petrol  145  40.3         1.5\n",
       "4   Fiesta  2019  16500    Automatic     1482   Petrol  145  48.7         1.0"
      ]
     },
     "execution_count": 4,
     "metadata": {},
     "output_type": "execute_result"
    }
   ],
   "source": [
    "data.head()"
   ]
  },
  {
   "cell_type": "code",
   "execution_count": 5,
   "id": "9ef206bc-92bb-4ba5-9fe2-e7478b87db58",
   "metadata": {},
   "outputs": [
    {
     "data": {
      "text/html": [
       "<div>\n",
       "<style scoped>\n",
       "    .dataframe tbody tr th:only-of-type {\n",
       "        vertical-align: middle;\n",
       "    }\n",
       "\n",
       "    .dataframe tbody tr th {\n",
       "        vertical-align: top;\n",
       "    }\n",
       "\n",
       "    .dataframe thead th {\n",
       "        text-align: right;\n",
       "    }\n",
       "</style>\n",
       "<table border=\"1\" class=\"dataframe\">\n",
       "  <thead>\n",
       "    <tr style=\"text-align: right;\">\n",
       "      <th></th>\n",
       "      <th>model</th>\n",
       "      <th>year</th>\n",
       "      <th>price</th>\n",
       "      <th>transmission</th>\n",
       "      <th>mileage</th>\n",
       "      <th>fuelType</th>\n",
       "      <th>tax</th>\n",
       "      <th>mpg</th>\n",
       "      <th>engineSize</th>\n",
       "    </tr>\n",
       "  </thead>\n",
       "  <tbody>\n",
       "    <tr>\n",
       "      <th>17961</th>\n",
       "      <td>B-MAX</td>\n",
       "      <td>2017</td>\n",
       "      <td>8999</td>\n",
       "      <td>Manual</td>\n",
       "      <td>16700</td>\n",
       "      <td>Petrol</td>\n",
       "      <td>150</td>\n",
       "      <td>47.1</td>\n",
       "      <td>1.4</td>\n",
       "    </tr>\n",
       "    <tr>\n",
       "      <th>17962</th>\n",
       "      <td>B-MAX</td>\n",
       "      <td>2014</td>\n",
       "      <td>7499</td>\n",
       "      <td>Manual</td>\n",
       "      <td>40700</td>\n",
       "      <td>Petrol</td>\n",
       "      <td>30</td>\n",
       "      <td>57.7</td>\n",
       "      <td>1.0</td>\n",
       "    </tr>\n",
       "    <tr>\n",
       "      <th>17963</th>\n",
       "      <td>Focus</td>\n",
       "      <td>2015</td>\n",
       "      <td>9999</td>\n",
       "      <td>Manual</td>\n",
       "      <td>7010</td>\n",
       "      <td>Diesel</td>\n",
       "      <td>20</td>\n",
       "      <td>67.3</td>\n",
       "      <td>1.6</td>\n",
       "    </tr>\n",
       "    <tr>\n",
       "      <th>17964</th>\n",
       "      <td>KA</td>\n",
       "      <td>2018</td>\n",
       "      <td>8299</td>\n",
       "      <td>Manual</td>\n",
       "      <td>5007</td>\n",
       "      <td>Petrol</td>\n",
       "      <td>145</td>\n",
       "      <td>57.7</td>\n",
       "      <td>1.2</td>\n",
       "    </tr>\n",
       "    <tr>\n",
       "      <th>17965</th>\n",
       "      <td>Focus</td>\n",
       "      <td>2015</td>\n",
       "      <td>8299</td>\n",
       "      <td>Manual</td>\n",
       "      <td>5007</td>\n",
       "      <td>Petrol</td>\n",
       "      <td>22</td>\n",
       "      <td>57.7</td>\n",
       "      <td>1.0</td>\n",
       "    </tr>\n",
       "  </tbody>\n",
       "</table>\n",
       "</div>"
      ],
      "text/plain": [
       "        model  year  price transmission  mileage fuelType  tax   mpg  \\\n",
       "17961   B-MAX  2017   8999       Manual    16700   Petrol  150  47.1   \n",
       "17962   B-MAX  2014   7499       Manual    40700   Petrol   30  57.7   \n",
       "17963   Focus  2015   9999       Manual     7010   Diesel   20  67.3   \n",
       "17964      KA  2018   8299       Manual     5007   Petrol  145  57.7   \n",
       "17965   Focus  2015   8299       Manual     5007   Petrol   22  57.7   \n",
       "\n",
       "       engineSize  \n",
       "17961         1.4  \n",
       "17962         1.0  \n",
       "17963         1.6  \n",
       "17964         1.2  \n",
       "17965         1.0  "
      ]
     },
     "execution_count": 5,
     "metadata": {},
     "output_type": "execute_result"
    }
   ],
   "source": [
    "data.tail()"
   ]
  },
  {
   "cell_type": "code",
   "execution_count": 6,
   "id": "4d16ec93-ed64-434d-8de0-ca2c103dea31",
   "metadata": {},
   "outputs": [
    {
     "data": {
      "text/plain": [
       "Index(['model', 'year', 'price', 'transmission', 'mileage', 'fuelType', 'tax',\n",
       "       'mpg', 'engineSize'],\n",
       "      dtype='object')"
      ]
     },
     "execution_count": 6,
     "metadata": {},
     "output_type": "execute_result"
    }
   ],
   "source": [
    "data.columns"
   ]
  },
  {
   "cell_type": "code",
   "execution_count": 7,
   "id": "8579304c-45bd-4d2d-945a-6119fb5003fe",
   "metadata": {},
   "outputs": [],
   "source": [
    "data.drop('model',inplace=True,axis=True) ## This columns is not important for my dataset"
   ]
  },
  {
   "cell_type": "code",
   "execution_count": 8,
   "id": "48991848-471b-4db6-8da5-fe827e8c4500",
   "metadata": {},
   "outputs": [
    {
     "data": {
      "text/plain": [
       "155"
      ]
     },
     "execution_count": 8,
     "metadata": {},
     "output_type": "execute_result"
    }
   ],
   "source": [
    "data.duplicated().sum()  ## check duplicated values"
   ]
  },
  {
   "cell_type": "code",
   "execution_count": 9,
   "id": "60ca90ef-8cd8-4cba-9688-23aa4671a2bc",
   "metadata": {},
   "outputs": [],
   "source": [
    "data.drop_duplicates(inplace=True)"
   ]
  },
  {
   "cell_type": "code",
   "execution_count": 10,
   "id": "4849bb06-8c7e-4694-bdd3-ac3d7c851f36",
   "metadata": {},
   "outputs": [
    {
     "name": "stdout",
     "output_type": "stream",
     "text": [
      "<class 'pandas.core.frame.DataFrame'>\n",
      "Index: 17811 entries, 0 to 17965\n",
      "Data columns (total 8 columns):\n",
      " #   Column        Non-Null Count  Dtype  \n",
      "---  ------        --------------  -----  \n",
      " 0   year          17811 non-null  int64  \n",
      " 1   price         17811 non-null  int64  \n",
      " 2   transmission  17811 non-null  object \n",
      " 3   mileage       17811 non-null  int64  \n",
      " 4   fuelType      17811 non-null  object \n",
      " 5   tax           17811 non-null  int64  \n",
      " 6   mpg           17811 non-null  float64\n",
      " 7   engineSize    17811 non-null  float64\n",
      "dtypes: float64(2), int64(4), object(2)\n",
      "memory usage: 1.2+ MB\n"
     ]
    }
   ],
   "source": [
    "data.info()"
   ]
  },
  {
   "cell_type": "code",
   "execution_count": 11,
   "id": "087b4713-a8e9-466c-b603-f5a68d717543",
   "metadata": {},
   "outputs": [
    {
     "data": {
      "text/html": [
       "<div>\n",
       "<style scoped>\n",
       "    .dataframe tbody tr th:only-of-type {\n",
       "        vertical-align: middle;\n",
       "    }\n",
       "\n",
       "    .dataframe tbody tr th {\n",
       "        vertical-align: top;\n",
       "    }\n",
       "\n",
       "    .dataframe thead th {\n",
       "        text-align: right;\n",
       "    }\n",
       "</style>\n",
       "<table border=\"1\" class=\"dataframe\">\n",
       "  <thead>\n",
       "    <tr style=\"text-align: right;\">\n",
       "      <th></th>\n",
       "      <th>year</th>\n",
       "      <th>price</th>\n",
       "      <th>transmission</th>\n",
       "      <th>mileage</th>\n",
       "      <th>fuelType</th>\n",
       "      <th>tax</th>\n",
       "      <th>mpg</th>\n",
       "      <th>engineSize</th>\n",
       "    </tr>\n",
       "  </thead>\n",
       "  <tbody>\n",
       "    <tr>\n",
       "      <th>17103</th>\n",
       "      <td>2003</td>\n",
       "      <td>495</td>\n",
       "      <td>Manual</td>\n",
       "      <td>177644</td>\n",
       "      <td>Petrol</td>\n",
       "      <td>200</td>\n",
       "      <td>41.5</td>\n",
       "      <td>1.6</td>\n",
       "    </tr>\n",
       "    <tr>\n",
       "      <th>14222</th>\n",
       "      <td>2005</td>\n",
       "      <td>675</td>\n",
       "      <td>Manual</td>\n",
       "      <td>97000</td>\n",
       "      <td>Diesel</td>\n",
       "      <td>205</td>\n",
       "      <td>48.7</td>\n",
       "      <td>2.0</td>\n",
       "    </tr>\n",
       "    <tr>\n",
       "      <th>16904</th>\n",
       "      <td>2005</td>\n",
       "      <td>675</td>\n",
       "      <td>Manual</td>\n",
       "      <td>121000</td>\n",
       "      <td>Petrol</td>\n",
       "      <td>235</td>\n",
       "      <td>39.8</td>\n",
       "      <td>2.0</td>\n",
       "    </tr>\n",
       "    <tr>\n",
       "      <th>16811</th>\n",
       "      <td>2005</td>\n",
       "      <td>675</td>\n",
       "      <td>Manual</td>\n",
       "      <td>108000</td>\n",
       "      <td>Petrol</td>\n",
       "      <td>260</td>\n",
       "      <td>36.2</td>\n",
       "      <td>1.8</td>\n",
       "    </tr>\n",
       "    <tr>\n",
       "      <th>16704</th>\n",
       "      <td>2008</td>\n",
       "      <td>694</td>\n",
       "      <td>Manual</td>\n",
       "      <td>82020</td>\n",
       "      <td>Petrol</td>\n",
       "      <td>145</td>\n",
       "      <td>47.1</td>\n",
       "      <td>1.2</td>\n",
       "    </tr>\n",
       "    <tr>\n",
       "      <th>...</th>\n",
       "      <td>...</td>\n",
       "      <td>...</td>\n",
       "      <td>...</td>\n",
       "      <td>...</td>\n",
       "      <td>...</td>\n",
       "      <td>...</td>\n",
       "      <td>...</td>\n",
       "      <td>...</td>\n",
       "    </tr>\n",
       "    <tr>\n",
       "      <th>12613</th>\n",
       "      <td>2019</td>\n",
       "      <td>45250</td>\n",
       "      <td>Automatic</td>\n",
       "      <td>2500</td>\n",
       "      <td>Petrol</td>\n",
       "      <td>145</td>\n",
       "      <td>22.1</td>\n",
       "      <td>5.0</td>\n",
       "    </tr>\n",
       "    <tr>\n",
       "      <th>17866</th>\n",
       "      <td>2020</td>\n",
       "      <td>48000</td>\n",
       "      <td>Manual</td>\n",
       "      <td>50</td>\n",
       "      <td>Petrol</td>\n",
       "      <td>145</td>\n",
       "      <td>23.9</td>\n",
       "      <td>5.0</td>\n",
       "    </tr>\n",
       "    <tr>\n",
       "      <th>11910</th>\n",
       "      <td>2017</td>\n",
       "      <td>48999</td>\n",
       "      <td>Automatic</td>\n",
       "      <td>7546</td>\n",
       "      <td>Petrol</td>\n",
       "      <td>145</td>\n",
       "      <td>23.5</td>\n",
       "      <td>5.0</td>\n",
       "    </tr>\n",
       "    <tr>\n",
       "      <th>11913</th>\n",
       "      <td>2017</td>\n",
       "      <td>49999</td>\n",
       "      <td>Manual</td>\n",
       "      <td>21575</td>\n",
       "      <td>Petrol</td>\n",
       "      <td>145</td>\n",
       "      <td>20.9</td>\n",
       "      <td>5.0</td>\n",
       "    </tr>\n",
       "    <tr>\n",
       "      <th>11912</th>\n",
       "      <td>2018</td>\n",
       "      <td>54995</td>\n",
       "      <td>Manual</td>\n",
       "      <td>11000</td>\n",
       "      <td>Petrol</td>\n",
       "      <td>145</td>\n",
       "      <td>36.7</td>\n",
       "      <td>2.3</td>\n",
       "    </tr>\n",
       "  </tbody>\n",
       "</table>\n",
       "<p>17811 rows × 8 columns</p>\n",
       "</div>"
      ],
      "text/plain": [
       "       year  price transmission  mileage fuelType  tax   mpg  engineSize\n",
       "17103  2003    495       Manual   177644   Petrol  200  41.5         1.6\n",
       "14222  2005    675       Manual    97000   Diesel  205  48.7         2.0\n",
       "16904  2005    675       Manual   121000   Petrol  235  39.8         2.0\n",
       "16811  2005    675       Manual   108000   Petrol  260  36.2         1.8\n",
       "16704  2008    694       Manual    82020   Petrol  145  47.1         1.2\n",
       "...     ...    ...          ...      ...      ...  ...   ...         ...\n",
       "12613  2019  45250    Automatic     2500   Petrol  145  22.1         5.0\n",
       "17866  2020  48000       Manual       50   Petrol  145  23.9         5.0\n",
       "11910  2017  48999    Automatic     7546   Petrol  145  23.5         5.0\n",
       "11913  2017  49999       Manual    21575   Petrol  145  20.9         5.0\n",
       "11912  2018  54995       Manual    11000   Petrol  145  36.7         2.3\n",
       "\n",
       "[17811 rows x 8 columns]"
      ]
     },
     "execution_count": 11,
     "metadata": {},
     "output_type": "execute_result"
    }
   ],
   "source": [
    "data.sort_values('price')"
   ]
  },
  {
   "cell_type": "code",
   "execution_count": 12,
   "id": "a0a5c80f-53a2-4c76-8dcc-7255c59a904a",
   "metadata": {},
   "outputs": [
    {
     "data": {
      "text/plain": [
       "year            0\n",
       "price           0\n",
       "transmission    0\n",
       "mileage         0\n",
       "fuelType        0\n",
       "tax             0\n",
       "mpg             0\n",
       "engineSize      0\n",
       "dtype: int64"
      ]
     },
     "execution_count": 12,
     "metadata": {},
     "output_type": "execute_result"
    }
   ],
   "source": [
    "data.isnull().sum()  ## check NaN values"
   ]
  },
  {
   "cell_type": "code",
   "execution_count": 13,
   "id": "4b55e382-1103-4802-b294-39097788c28a",
   "metadata": {},
   "outputs": [
    {
     "data": {
      "text/plain": [
       "year            0.0\n",
       "price           0.0\n",
       "transmission    0.0\n",
       "mileage         0.0\n",
       "fuelType        0.0\n",
       "tax             0.0\n",
       "mpg             0.0\n",
       "engineSize      0.0\n",
       "dtype: float64"
      ]
     },
     "execution_count": 13,
     "metadata": {},
     "output_type": "execute_result"
    }
   ],
   "source": [
    "data.isnull().sum()/len(data)*100   ## check Nan Values in percentage"
   ]
  },
  {
   "cell_type": "code",
   "execution_count": 14,
   "id": "37f00ab1-24f8-410b-912c-7d99e1a916e6",
   "metadata": {},
   "outputs": [
    {
     "data": {
      "text/plain": [
       "year               23\n",
       "price            3511\n",
       "transmission        3\n",
       "mileage         13528\n",
       "fuelType            5\n",
       "tax                36\n",
       "mpg                90\n",
       "engineSize         16\n",
       "dtype: int64"
      ]
     },
     "execution_count": 14,
     "metadata": {},
     "output_type": "execute_result"
    }
   ],
   "source": [
    "data.nunique()"
   ]
  },
  {
   "cell_type": "code",
   "execution_count": 15,
   "id": "24177e31-12f7-4d91-ac8a-104850b1da3e",
   "metadata": {},
   "outputs": [
    {
     "data": {
      "text/html": [
       "<div>\n",
       "<style scoped>\n",
       "    .dataframe tbody tr th:only-of-type {\n",
       "        vertical-align: middle;\n",
       "    }\n",
       "\n",
       "    .dataframe tbody tr th {\n",
       "        vertical-align: top;\n",
       "    }\n",
       "\n",
       "    .dataframe thead th {\n",
       "        text-align: right;\n",
       "    }\n",
       "</style>\n",
       "<table border=\"1\" class=\"dataframe\">\n",
       "  <thead>\n",
       "    <tr style=\"text-align: right;\">\n",
       "      <th></th>\n",
       "      <th>year</th>\n",
       "      <th>price</th>\n",
       "      <th>mileage</th>\n",
       "      <th>tax</th>\n",
       "      <th>mpg</th>\n",
       "      <th>engineSize</th>\n",
       "    </tr>\n",
       "  </thead>\n",
       "  <tbody>\n",
       "    <tr>\n",
       "      <th>count</th>\n",
       "      <td>17811.000000</td>\n",
       "      <td>17811.000000</td>\n",
       "      <td>17811.000000</td>\n",
       "      <td>17811.000000</td>\n",
       "      <td>17811.000000</td>\n",
       "      <td>17811.000000</td>\n",
       "    </tr>\n",
       "    <tr>\n",
       "      <th>mean</th>\n",
       "      <td>2016.862276</td>\n",
       "      <td>12269.683791</td>\n",
       "      <td>23381.897648</td>\n",
       "      <td>113.313233</td>\n",
       "      <td>57.909258</td>\n",
       "      <td>1.350699</td>\n",
       "    </tr>\n",
       "    <tr>\n",
       "      <th>std</th>\n",
       "      <td>2.052035</td>\n",
       "      <td>4736.387823</td>\n",
       "      <td>19419.297339</td>\n",
       "      <td>62.035890</td>\n",
       "      <td>10.132703</td>\n",
       "      <td>0.432474</td>\n",
       "    </tr>\n",
       "    <tr>\n",
       "      <th>min</th>\n",
       "      <td>1996.000000</td>\n",
       "      <td>495.000000</td>\n",
       "      <td>1.000000</td>\n",
       "      <td>0.000000</td>\n",
       "      <td>20.800000</td>\n",
       "      <td>0.000000</td>\n",
       "    </tr>\n",
       "    <tr>\n",
       "      <th>25%</th>\n",
       "      <td>2016.000000</td>\n",
       "      <td>8999.000000</td>\n",
       "      <td>10000.000000</td>\n",
       "      <td>30.000000</td>\n",
       "      <td>52.300000</td>\n",
       "      <td>1.000000</td>\n",
       "    </tr>\n",
       "    <tr>\n",
       "      <th>50%</th>\n",
       "      <td>2017.000000</td>\n",
       "      <td>11289.000000</td>\n",
       "      <td>18280.000000</td>\n",
       "      <td>145.000000</td>\n",
       "      <td>58.900000</td>\n",
       "      <td>1.200000</td>\n",
       "    </tr>\n",
       "    <tr>\n",
       "      <th>75%</th>\n",
       "      <td>2018.000000</td>\n",
       "      <td>15295.000000</td>\n",
       "      <td>31099.000000</td>\n",
       "      <td>145.000000</td>\n",
       "      <td>65.700000</td>\n",
       "      <td>1.500000</td>\n",
       "    </tr>\n",
       "    <tr>\n",
       "      <th>max</th>\n",
       "      <td>2060.000000</td>\n",
       "      <td>54995.000000</td>\n",
       "      <td>177644.000000</td>\n",
       "      <td>580.000000</td>\n",
       "      <td>201.800000</td>\n",
       "      <td>5.000000</td>\n",
       "    </tr>\n",
       "  </tbody>\n",
       "</table>\n",
       "</div>"
      ],
      "text/plain": [
       "               year         price        mileage           tax           mpg  \\\n",
       "count  17811.000000  17811.000000   17811.000000  17811.000000  17811.000000   \n",
       "mean    2016.862276  12269.683791   23381.897648    113.313233     57.909258   \n",
       "std        2.052035   4736.387823   19419.297339     62.035890     10.132703   \n",
       "min     1996.000000    495.000000       1.000000      0.000000     20.800000   \n",
       "25%     2016.000000   8999.000000   10000.000000     30.000000     52.300000   \n",
       "50%     2017.000000  11289.000000   18280.000000    145.000000     58.900000   \n",
       "75%     2018.000000  15295.000000   31099.000000    145.000000     65.700000   \n",
       "max     2060.000000  54995.000000  177644.000000    580.000000    201.800000   \n",
       "\n",
       "         engineSize  \n",
       "count  17811.000000  \n",
       "mean       1.350699  \n",
       "std        0.432474  \n",
       "min        0.000000  \n",
       "25%        1.000000  \n",
       "50%        1.200000  \n",
       "75%        1.500000  \n",
       "max        5.000000  "
      ]
     },
     "execution_count": 15,
     "metadata": {},
     "output_type": "execute_result"
    }
   ],
   "source": [
    "data.describe()"
   ]
  },
  {
   "cell_type": "code",
   "execution_count": 16,
   "id": "cc5fa7a8-44c3-4c38-b1b9-8d1ccadcbc93",
   "metadata": {},
   "outputs": [
    {
     "data": {
      "text/html": [
       "<div>\n",
       "<style scoped>\n",
       "    .dataframe tbody tr th:only-of-type {\n",
       "        vertical-align: middle;\n",
       "    }\n",
       "\n",
       "    .dataframe tbody tr th {\n",
       "        vertical-align: top;\n",
       "    }\n",
       "\n",
       "    .dataframe thead th {\n",
       "        text-align: right;\n",
       "    }\n",
       "</style>\n",
       "<table border=\"1\" class=\"dataframe\">\n",
       "  <thead>\n",
       "    <tr style=\"text-align: right;\">\n",
       "      <th></th>\n",
       "      <th>transmission</th>\n",
       "      <th>fuelType</th>\n",
       "    </tr>\n",
       "  </thead>\n",
       "  <tbody>\n",
       "    <tr>\n",
       "      <th>count</th>\n",
       "      <td>17811</td>\n",
       "      <td>17811</td>\n",
       "    </tr>\n",
       "    <tr>\n",
       "      <th>unique</th>\n",
       "      <td>3</td>\n",
       "      <td>5</td>\n",
       "    </tr>\n",
       "    <tr>\n",
       "      <th>top</th>\n",
       "      <td>Manual</td>\n",
       "      <td>Petrol</td>\n",
       "    </tr>\n",
       "    <tr>\n",
       "      <th>freq</th>\n",
       "      <td>15382</td>\n",
       "      <td>12080</td>\n",
       "    </tr>\n",
       "  </tbody>\n",
       "</table>\n",
       "</div>"
      ],
      "text/plain": [
       "       transmission fuelType\n",
       "count         17811    17811\n",
       "unique            3        5\n",
       "top          Manual   Petrol\n",
       "freq          15382    12080"
      ]
     },
     "execution_count": 16,
     "metadata": {},
     "output_type": "execute_result"
    }
   ],
   "source": [
    "data.describe(include='O')"
   ]
  },
  {
   "cell_type": "code",
   "execution_count": 17,
   "id": "7d39691d-cefb-47ee-aff6-0fdd05b50729",
   "metadata": {},
   "outputs": [
    {
     "data": {
      "text/html": [
       "<div>\n",
       "<style scoped>\n",
       "    .dataframe tbody tr th:only-of-type {\n",
       "        vertical-align: middle;\n",
       "    }\n",
       "\n",
       "    .dataframe tbody tr th {\n",
       "        vertical-align: top;\n",
       "    }\n",
       "\n",
       "    .dataframe thead th {\n",
       "        text-align: right;\n",
       "    }\n",
       "</style>\n",
       "<table border=\"1\" class=\"dataframe\">\n",
       "  <thead>\n",
       "    <tr style=\"text-align: right;\">\n",
       "      <th></th>\n",
       "      <th>year</th>\n",
       "      <th>price</th>\n",
       "      <th>transmission</th>\n",
       "      <th>mileage</th>\n",
       "      <th>fuelType</th>\n",
       "      <th>tax</th>\n",
       "      <th>mpg</th>\n",
       "      <th>engineSize</th>\n",
       "    </tr>\n",
       "  </thead>\n",
       "  <tbody>\n",
       "    <tr>\n",
       "      <th>0</th>\n",
       "      <td>2017</td>\n",
       "      <td>12000</td>\n",
       "      <td>Automatic</td>\n",
       "      <td>15944</td>\n",
       "      <td>Petrol</td>\n",
       "      <td>150</td>\n",
       "      <td>57.7</td>\n",
       "      <td>1.0</td>\n",
       "    </tr>\n",
       "    <tr>\n",
       "      <th>1</th>\n",
       "      <td>2018</td>\n",
       "      <td>14000</td>\n",
       "      <td>Manual</td>\n",
       "      <td>9083</td>\n",
       "      <td>Petrol</td>\n",
       "      <td>150</td>\n",
       "      <td>57.7</td>\n",
       "      <td>1.0</td>\n",
       "    </tr>\n",
       "    <tr>\n",
       "      <th>2</th>\n",
       "      <td>2017</td>\n",
       "      <td>13000</td>\n",
       "      <td>Manual</td>\n",
       "      <td>12456</td>\n",
       "      <td>Petrol</td>\n",
       "      <td>150</td>\n",
       "      <td>57.7</td>\n",
       "      <td>1.0</td>\n",
       "    </tr>\n",
       "    <tr>\n",
       "      <th>3</th>\n",
       "      <td>2019</td>\n",
       "      <td>17500</td>\n",
       "      <td>Manual</td>\n",
       "      <td>10460</td>\n",
       "      <td>Petrol</td>\n",
       "      <td>145</td>\n",
       "      <td>40.3</td>\n",
       "      <td>1.5</td>\n",
       "    </tr>\n",
       "    <tr>\n",
       "      <th>4</th>\n",
       "      <td>2019</td>\n",
       "      <td>16500</td>\n",
       "      <td>Automatic</td>\n",
       "      <td>1482</td>\n",
       "      <td>Petrol</td>\n",
       "      <td>145</td>\n",
       "      <td>48.7</td>\n",
       "      <td>1.0</td>\n",
       "    </tr>\n",
       "  </tbody>\n",
       "</table>\n",
       "</div>"
      ],
      "text/plain": [
       "   year  price transmission  mileage fuelType  tax   mpg  engineSize\n",
       "0  2017  12000    Automatic    15944   Petrol  150  57.7         1.0\n",
       "1  2018  14000       Manual     9083   Petrol  150  57.7         1.0\n",
       "2  2017  13000       Manual    12456   Petrol  150  57.7         1.0\n",
       "3  2019  17500       Manual    10460   Petrol  145  40.3         1.5\n",
       "4  2019  16500    Automatic     1482   Petrol  145  48.7         1.0"
      ]
     },
     "execution_count": 17,
     "metadata": {},
     "output_type": "execute_result"
    }
   ],
   "source": [
    "data.head()"
   ]
  },
  {
   "cell_type": "markdown",
   "id": "fef57201-13d9-4698-9523-5857bd510579",
   "metadata": {},
   "source": [
    "## Exploratory Data Analysis"
   ]
  },
  {
   "cell_type": "markdown",
   "id": "54455bbc-24ca-4863-b850-90004b5b1c53",
   "metadata": {},
   "source": [
    "### Univariate analysis using sweetviz"
   ]
  },
  {
   "cell_type": "code",
   "execution_count": 18,
   "id": "8ac0315e-2023-4226-b169-232f6648afd5",
   "metadata": {},
   "outputs": [
    {
     "data": {
      "application/vnd.jupyter.widget-view+json": {
       "model_id": "e27b29734b7047eea123562975313b04",
       "version_major": 2,
       "version_minor": 0
      },
      "text/plain": [
       "                                             |                                             | [  0%]   00:00 ->…"
      ]
     },
     "metadata": {},
     "output_type": "display_data"
    },
    {
     "name": "stdout",
     "output_type": "stream",
     "text": [
      "Report SWEETVIZ_REPORT.html was generated! NOTEBOOK/COLAB USERS: the web browser MAY not pop up, regardless, the report IS saved in your notebook/colab files.\n"
     ]
    }
   ],
   "source": [
    "import sweetviz as sv\n",
    "my_report = sv.analyze(data)\n",
    "my_report.show_html()"
   ]
  },
  {
   "cell_type": "code",
   "execution_count": 19,
   "id": "8668d186-b571-431f-8411-9eb7465381cf",
   "metadata": {},
   "outputs": [
    {
     "data": {
      "text/plain": [
       "[<matplotlib.lines.Line2D at 0x166c1101310>]"
      ]
     },
     "execution_count": 19,
     "metadata": {},
     "output_type": "execute_result"
    },
    {
     "data": {
      "image/png": "[encoded data removed]",
      "text/plain": [
       "<Figure size 1500x600 with 1 Axes>"
      ]
     },
     "metadata": {},
     "output_type": "display_data"
    }
   ],
   "source": [
    "plt.figure(figsize=(15,6))\n",
    "plt.plot(data['price'])"
   ]
  },
  {
   "cell_type": "code",
   "execution_count": 20,
   "id": "67cfadbf-b5ec-4996-a4c3-606cfe651a86",
   "metadata": {},
   "outputs": [
    {
     "data": {
      "text/plain": [
       "<Axes: xlabel='year', ylabel='price'>"
      ]
     },
     "execution_count": 20,
     "metadata": {},
     "output_type": "execute_result"
    },
    {
     "data": {
      "image/png": "[encoded data removed]",
      "text/plain": [
       "<Figure size 640x480 with 1 Axes>"
      ]
     },
     "metadata": {},
     "output_type": "display_data"
    }
   ],
   "source": [
    "sns.lineplot(x='year',y='price',data=data,hue='fuelType')"
   ]
  },
  {
   "cell_type": "code",
   "execution_count": 21,
   "id": "1f204645-3aec-4a0d-860a-c1315b7bf1e2",
   "metadata": {},
   "outputs": [
    {
     "data": {
      "text/plain": [
       "<seaborn.axisgrid.FacetGrid at 0x166c1732250>"
      ]
     },
     "execution_count": 21,
     "metadata": {},
     "output_type": "execute_result"
    },
    {
     "data": {
      "image/png": "[encoded data removed]",
      "text/plain": [
       "<Figure size 500x500 with 1 Axes>"
      ]
     },
     "metadata": {},
     "output_type": "display_data"
    }
   ],
   "source": [
    "sns.relplot(y='year',x='price',data=data,)"
   ]
  },
  {
   "cell_type": "code",
   "execution_count": 22,
   "id": "a4826821-a284-447f-80b7-c41b7fba9421",
   "metadata": {},
   "outputs": [
    {
     "data": {
      "text/plain": [
       "<matplotlib.legend.Legend at 0x166c2eb63d0>"
      ]
     },
     "execution_count": 22,
     "metadata": {},
     "output_type": "execute_result"
    },
    {
     "data": {
      "image/png": "[encoded data removed]",
      "text/plain": [
       "<Figure size 600x500 with 1 Axes>"
      ]
     },
     "metadata": {},
     "output_type": "display_data"
    },
    {
     "data": {
      "image/png": "[encoded data removed]",
      "text/plain": [
       "<Figure size 600x500 with 1 Axes>"
      ]
     },
     "metadata": {},
     "output_type": "display_data"
    }
   ],
   "source": [
    "plt.figure(figsize=(6,5))\n",
    "sns.lineplot(x='year',y='price',data=data,hue='transmission',ci=None)\n",
    "plt.legend(fontsize=5)\n",
    "plt.figure(figsize=(6,5))\n",
    "sns.lineplot(x='year',y='mileage',hue='transmission',data=data,ci=None)\n",
    "plt.legend(fontsize=5)"
   ]
  },
  {
   "cell_type": "code",
   "execution_count": null,
   "id": "70555fce-695e-4a0e-be01-a770ae79d583",
   "metadata": {},
   "outputs": [],
   "source": []
  },
  {
   "cell_type": "code",
   "execution_count": 23,
   "id": "a604a4d4-5c1f-4e33-86ad-f04c60a38a36",
   "metadata": {},
   "outputs": [
    {
     "data": {
      "text/plain": [
       "Index(['transmission', 'fuelType'], dtype='object')"
      ]
     },
     "execution_count": 23,
     "metadata": {},
     "output_type": "execute_result"
    }
   ],
   "source": [
    "cat_col=data.select_dtypes(include='O')\n",
    "cat_col.columns"
   ]
  },
  {
   "cell_type": "code",
   "execution_count": 24,
   "id": "1b738a92-2c9e-4818-81f6-6272a5b666e4",
   "metadata": {},
   "outputs": [
    {
     "data": {
      "image/png": "[encoded data removed]",
      "text/plain": [
       "<Figure size 2000x1500 with 2 Axes>"
      ]
     },
     "metadata": {},
     "output_type": "display_data"
    }
   ],
   "source": [
    "plt.figure(figsize=(20,15))\n",
    "plotnumber=1\n",
    "for i in cat_col:\n",
    "    if plotnumber<=9:\n",
    "        plt.subplot(3,3,plotnumber)\n",
    "        sns.barplot(cat_col[i])\n",
    "        plt.xlabel(i,fontsize=15)\n",
    "        plt.ylabel(\"Counts\",fontsize=15)\n",
    "    plotnumber+=1\n",
    "plt.tight_layout()"
   ]
  },
  {
   "cell_type": "code",
   "execution_count": null,
   "id": "6fd293ff-998d-43f5-a2e4-6c04740f7791",
   "metadata": {},
   "outputs": [],
   "source": []
  },
  {
   "cell_type": "markdown",
   "id": "747ac760-8482-4bb0-8b7c-bf0cc89373cd",
   "metadata": {},
   "source": [
    "## Biavariant Analysis"
   ]
  },
  {
   "cell_type": "markdown",
   "id": "ff12fcad-9c17-4805-938e-d3f01669f716",
   "metadata": {},
   "source": [
    "#### Checking relationship of all variables with respect to target variable"
   ]
  },
  {
   "cell_type": "code",
   "execution_count": null,
   "id": "19d68f48-a200-429f-8a1e-517a40dbd1da",
   "metadata": {},
   "outputs": [],
   "source": []
  },
  {
   "cell_type": "code",
   "execution_count": 26,
   "id": "614f22ee-990b-428a-8f68-abf18ac5027d",
   "metadata": {},
   "outputs": [
    {
     "data": {
      "image/png": "[encoded data removed]",
      "text/plain": [
       "<Figure size 2000x1500 with 8 Axes>"
      ]
     },
     "metadata": {},
     "output_type": "display_data"
    }
   ],
   "source": [
    "plt.figure(figsize=(20,15))\n",
    "plotnumber=1\n",
    "for i in data:\n",
    "    if plotnumber<=9:\n",
    "        plt.subplot(3,3,plotnumber)\n",
    "        sns.histplot(data[i],kde=True)\n",
    "        plt.xlabel(i,fontsize=15)\n",
    "        plt.ylabel(\"Counts\",fontsize=15)\n",
    "    plotnumber+=1\n",
    "plt.tight_layout()"
   ]
  },
  {
   "cell_type": "markdown",
   "id": "f9ea65b4-69e4-46e9-8ce6-9cdff3623bcf",
   "metadata": {},
   "source": [
    "## Insights\n",
    "\n",
    "**General Observations:**\n",
    "\n",
    "- **Skewness:** Many of the distributions are skewed, indicating that the majority of data points are concentrated on one side of the distribution. This is particularly evident for attributes like `year`, `price`, `mileage`, `weight`, and `mpg`.\n",
    "- **Outliers:** Some histograms show clear outliers, which are data points that are significantly different from the majority of the data. These can be seen in attributes like `price`, `mileage`, and `mpg`.\n",
    "- **Multimodality:** A few distributions exhibit multiple peaks (modes), suggesting that there might be distinct groups or clusters within the data. This is noticeable in `price` and `mpg`.\n",
    "\n",
    "**Specific Insights:**\n",
    "\n",
    "- **`year`:** The distribution is skewed to the right, indicating that there are more cars from recent years.\n",
    "- **`price`:** The distribution is highly skewed to the right, with a long tail representing high-priced cars. There are also some outliers on the high-end side.\n",
    "- **`transmission`:** The distribution is heavily skewed to the left, with most cars having automatic transmissions.\n",
    "- **`mileage`:** The distribution is skewed to the right, with a long tail representing cars with high mileage. There are also some outliers on the high-end side.\n",
    "- **`fuelType`:** The distribution is relatively uniform, with no clear dominant fuel type.\n",
    "- **`weight`:** The distribution is skewed to the right, with a long tail representing heavier cars.\n",
    "- **`bodyType`:** The distribution is skewed to the right, with sedan being the most common body type.\n",
    "- **`tax`:** The distribution is skewed to the right, with a long tail representing higher tax amounts.\n",
    "- **`mpg`:** The distribution is bimodal, with two distinct peaks suggesting two groups of cars with different fuel efficiencies.\n",
    "- **`engineSize`:** The distribution is skewed to the right, with a long tail representing larger engine sizes.\n",
    "\n",
    "**Overall, the analysis suggests that the dataset contains a diverse range of cars with varying characteristics. The skewness and outliers observed in many attributes highlight the need for further exploration and potential data cleaning or normalization before conducting more in-depth analysis.**\n"
   ]
  },
  {
   "cell_type": "code",
   "execution_count": 27,
   "id": "76732c58-8571-4905-abc4-27e23fb7b850",
   "metadata": {},
   "outputs": [
    {
     "data": {
      "text/plain": [
       "year              int64\n",
       "price             int64\n",
       "transmission     object\n",
       "mileage           int64\n",
       "fuelType         object\n",
       "tax               int64\n",
       "mpg             float64\n",
       "engineSize      float64\n",
       "dtype: object"
      ]
     },
     "execution_count": 27,
     "metadata": {},
     "output_type": "execute_result"
    }
   ],
   "source": [
    "data.dtypes"
   ]
  },
  {
   "cell_type": "code",
   "execution_count": 28,
   "id": "0a608326-713e-4348-bf77-a66f06146232",
   "metadata": {},
   "outputs": [
    {
     "data": {
      "text/plain": [
       "Index(['year', 'price', 'mileage', 'tax', 'mpg', 'engineSize'], dtype='object')"
      ]
     },
     "execution_count": 28,
     "metadata": {},
     "output_type": "execute_result"
    }
   ],
   "source": [
    "num_col = data.select_dtypes(include=['int','float'])\n",
    "num_col.columns"
   ]
  },
  {
   "cell_type": "markdown",
   "id": "83ce2783-64b1-4b65-84b8-cf9a8a150876",
   "metadata": {},
   "source": [
    "## Check Outliers"
   ]
  },
  {
   "cell_type": "code",
   "execution_count": 29,
   "id": "1ad374ed-e3b2-4f4a-8d84-f0a543d14e3f",
   "metadata": {},
   "outputs": [
    {
     "data": {
      "image/png": "[encoded data removed]",
      "text/plain": [
       "<Figure size 2000x1500 with 6 Axes>"
      ]
     },
     "metadata": {},
     "output_type": "display_data"
    }
   ],
   "source": [
    "plt.figure(figsize=(20,15))\n",
    "plotnumber=1\n",
    "for i in num_col:\n",
    "    if plotnumber<=9:\n",
    "        plt.subplot(3,3,plotnumber)\n",
    "        sns.boxplot(num_col[i])\n",
    "        plt.xlabel(i,fontsize=15)\n",
    "        plt.ylabel(\"Counts\",fontsize=15)\n",
    "    plotnumber+=1\n",
    "plt.tight_layout()"
   ]
  },
  {
   "cell_type": "code",
   "execution_count": 30,
   "id": "ea3782ed-faf6-458c-8fbe-231ea90b89cb",
   "metadata": {},
   "outputs": [
    {
     "data": {
      "text/plain": [
       "<Axes: >"
      ]
     },
     "execution_count": 30,
     "metadata": {},
     "output_type": "execute_result"
    },
    {
     "data": {
      "image/png": "[encoded data removed]",
      "text/plain": [
       "<Figure size 1800x500 with 1 Axes>"
      ]
     },
     "metadata": {},
     "output_type": "display_data"
    }
   ],
   "source": [
    "fig , ax = plt.subplots(figsize=(18,5))\n",
    "sns.boxplot(data=data, ax=ax)"
   ]
  },
  {
   "cell_type": "markdown",
   "id": "92da0f8f-d3e3-43c0-8881-92304f8b5224",
   "metadata": {},
   "source": [
    "## Handling Outliers"
   ]
  },
  {
   "cell_type": "code",
   "execution_count": 31,
   "id": "469acacd-f4ca-46c7-b730-f03eee6d4a88",
   "metadata": {},
   "outputs": [],
   "source": [
    "## year\n",
    "Q3 = data.year.quantile(0.75)\n",
    "Q1 = data.year.quantile(0.25)\n",
    "IQR = Q3 - Q1\n",
    "upper_limit = Q3 + 1.5 * IQR\n",
    "lower_limit = Q1 - 1.5 * IQR"
   ]
  },
  {
   "cell_type": "code",
   "execution_count": 32,
   "id": "d39ada1a-85dd-4616-996c-d9fd9fc5c2ec",
   "metadata": {},
   "outputs": [
    {
     "data": {
      "text/plain": [
       "0.005614507888383583"
      ]
     },
     "execution_count": 32,
     "metadata": {},
     "output_type": "execute_result"
    }
   ],
   "source": [
    "len(data.loc[data['year']>upper_limit])/len(data)*100"
   ]
  },
  {
   "cell_type": "code",
   "execution_count": 33,
   "id": "17033745-95af-4bf7-8dfb-c9f5798aa669",
   "metadata": {},
   "outputs": [
    {
     "data": {
      "text/plain": [
       "2.7904104205266407"
      ]
     },
     "execution_count": 33,
     "metadata": {},
     "output_type": "execute_result"
    }
   ],
   "source": [
    "len(data.loc[data['year']<lower_limit])/len(data)*100"
   ]
  },
  {
   "cell_type": "code",
   "execution_count": 34,
   "id": "5d1dbdea-e2ab-4504-a1e8-c62fb3089cf9",
   "metadata": {},
   "outputs": [
    {
     "data": {
      "text/html": [
       "<div>\n",
       "<style scoped>\n",
       "    .dataframe tbody tr th:only-of-type {\n",
       "        vertical-align: middle;\n",
       "    }\n",
       "\n",
       "    .dataframe tbody tr th {\n",
       "        vertical-align: top;\n",
       "    }\n",
       "\n",
       "    .dataframe thead th {\n",
       "        text-align: right;\n",
       "    }\n",
       "</style>\n",
       "<table border=\"1\" class=\"dataframe\">\n",
       "  <thead>\n",
       "    <tr style=\"text-align: right;\">\n",
       "      <th></th>\n",
       "      <th>year</th>\n",
       "      <th>price</th>\n",
       "      <th>transmission</th>\n",
       "      <th>mileage</th>\n",
       "      <th>fuelType</th>\n",
       "      <th>tax</th>\n",
       "      <th>mpg</th>\n",
       "      <th>engineSize</th>\n",
       "    </tr>\n",
       "  </thead>\n",
       "  <tbody>\n",
       "    <tr>\n",
       "      <th>17726</th>\n",
       "      <td>2060</td>\n",
       "      <td>6495</td>\n",
       "      <td>Automatic</td>\n",
       "      <td>54807</td>\n",
       "      <td>Petrol</td>\n",
       "      <td>205</td>\n",
       "      <td>42.8</td>\n",
       "      <td>1.4</td>\n",
       "    </tr>\n",
       "  </tbody>\n",
       "</table>\n",
       "</div>"
      ],
      "text/plain": [
       "       year  price transmission  mileage fuelType  tax   mpg  engineSize\n",
       "17726  2060   6495    Automatic    54807   Petrol  205  42.8         1.4"
      ]
     },
     "execution_count": 34,
     "metadata": {},
     "output_type": "execute_result"
    }
   ],
   "source": [
    "data.loc[data['year']>upper_limit]"
   ]
  },
  {
   "cell_type": "code",
   "execution_count": 35,
   "id": "f9d2d4f6-0ba7-438f-aec7-b455614d2fa8",
   "metadata": {},
   "outputs": [],
   "source": [
    "data.loc[data['year']>upper_limit,'year']=data['year'].median()"
   ]
  },
  {
   "cell_type": "code",
   "execution_count": 36,
   "id": "8f51e4a1-0c72-4106-b8b7-74460015f840",
   "metadata": {},
   "outputs": [
    {
     "data": {
      "text/html": [
       "<div>\n",
       "<style scoped>\n",
       "    .dataframe tbody tr th:only-of-type {\n",
       "        vertical-align: middle;\n",
       "    }\n",
       "\n",
       "    .dataframe tbody tr th {\n",
       "        vertical-align: top;\n",
       "    }\n",
       "\n",
       "    .dataframe thead th {\n",
       "        text-align: right;\n",
       "    }\n",
       "</style>\n",
       "<table border=\"1\" class=\"dataframe\">\n",
       "  <thead>\n",
       "    <tr style=\"text-align: right;\">\n",
       "      <th></th>\n",
       "      <th>year</th>\n",
       "      <th>price</th>\n",
       "      <th>transmission</th>\n",
       "      <th>mileage</th>\n",
       "      <th>fuelType</th>\n",
       "      <th>tax</th>\n",
       "      <th>mpg</th>\n",
       "      <th>engineSize</th>\n",
       "    </tr>\n",
       "  </thead>\n",
       "  <tbody>\n",
       "  </tbody>\n",
       "</table>\n",
       "</div>"
      ],
      "text/plain": [
       "Empty DataFrame\n",
       "Columns: [year, price, transmission, mileage, fuelType, tax, mpg, engineSize]\n",
       "Index: []"
      ]
     },
     "execution_count": 36,
     "metadata": {},
     "output_type": "execute_result"
    }
   ],
   "source": [
    "data.loc[data['year']==2060]"
   ]
  },
  {
   "cell_type": "code",
   "execution_count": 37,
   "id": "bba5a579-d977-453e-9841-79de8d6d1e04",
   "metadata": {},
   "outputs": [
    {
     "data": {
      "text/html": [
       "<div>\n",
       "<style scoped>\n",
       "    .dataframe tbody tr th:only-of-type {\n",
       "        vertical-align: middle;\n",
       "    }\n",
       "\n",
       "    .dataframe tbody tr th {\n",
       "        vertical-align: top;\n",
       "    }\n",
       "\n",
       "    .dataframe thead th {\n",
       "        text-align: right;\n",
       "    }\n",
       "</style>\n",
       "<table border=\"1\" class=\"dataframe\">\n",
       "  <thead>\n",
       "    <tr style=\"text-align: right;\">\n",
       "      <th></th>\n",
       "      <th>year</th>\n",
       "      <th>price</th>\n",
       "      <th>transmission</th>\n",
       "      <th>mileage</th>\n",
       "      <th>fuelType</th>\n",
       "      <th>tax</th>\n",
       "      <th>mpg</th>\n",
       "      <th>engineSize</th>\n",
       "    </tr>\n",
       "  </thead>\n",
       "  <tbody>\n",
       "    <tr>\n",
       "      <th>13463</th>\n",
       "      <td>2012</td>\n",
       "      <td>5250</td>\n",
       "      <td>Manual</td>\n",
       "      <td>46970</td>\n",
       "      <td>Petrol</td>\n",
       "      <td>125</td>\n",
       "      <td>50.4</td>\n",
       "      <td>1.2</td>\n",
       "    </tr>\n",
       "    <tr>\n",
       "      <th>13464</th>\n",
       "      <td>2008</td>\n",
       "      <td>3495</td>\n",
       "      <td>Manual</td>\n",
       "      <td>27930</td>\n",
       "      <td>Petrol</td>\n",
       "      <td>235</td>\n",
       "      <td>39.8</td>\n",
       "      <td>1.8</td>\n",
       "    </tr>\n",
       "    <tr>\n",
       "      <th>13466</th>\n",
       "      <td>2010</td>\n",
       "      <td>4750</td>\n",
       "      <td>Automatic</td>\n",
       "      <td>26588</td>\n",
       "      <td>Petrol</td>\n",
       "      <td>260</td>\n",
       "      <td>37.7</td>\n",
       "      <td>1.6</td>\n",
       "    </tr>\n",
       "    <tr>\n",
       "      <th>13467</th>\n",
       "      <td>2012</td>\n",
       "      <td>5495</td>\n",
       "      <td>Manual</td>\n",
       "      <td>53210</td>\n",
       "      <td>Petrol</td>\n",
       "      <td>125</td>\n",
       "      <td>50.4</td>\n",
       "      <td>1.2</td>\n",
       "    </tr>\n",
       "    <tr>\n",
       "      <th>13468</th>\n",
       "      <td>2009</td>\n",
       "      <td>3695</td>\n",
       "      <td>Manual</td>\n",
       "      <td>62000</td>\n",
       "      <td>Petrol</td>\n",
       "      <td>145</td>\n",
       "      <td>49.6</td>\n",
       "      <td>1.2</td>\n",
       "    </tr>\n",
       "    <tr>\n",
       "      <th>...</th>\n",
       "      <td>...</td>\n",
       "      <td>...</td>\n",
       "      <td>...</td>\n",
       "      <td>...</td>\n",
       "      <td>...</td>\n",
       "      <td>...</td>\n",
       "      <td>...</td>\n",
       "      <td>...</td>\n",
       "    </tr>\n",
       "    <tr>\n",
       "      <th>17761</th>\n",
       "      <td>2005</td>\n",
       "      <td>2495</td>\n",
       "      <td>Automatic</td>\n",
       "      <td>87908</td>\n",
       "      <td>Petrol</td>\n",
       "      <td>265</td>\n",
       "      <td>36.7</td>\n",
       "      <td>1.6</td>\n",
       "    </tr>\n",
       "    <tr>\n",
       "      <th>17780</th>\n",
       "      <td>2012</td>\n",
       "      <td>5500</td>\n",
       "      <td>Manual</td>\n",
       "      <td>64068</td>\n",
       "      <td>Petrol</td>\n",
       "      <td>150</td>\n",
       "      <td>48.7</td>\n",
       "      <td>1.4</td>\n",
       "    </tr>\n",
       "    <tr>\n",
       "      <th>17785</th>\n",
       "      <td>2012</td>\n",
       "      <td>5500</td>\n",
       "      <td>Manual</td>\n",
       "      <td>64068</td>\n",
       "      <td>Diesel</td>\n",
       "      <td>125</td>\n",
       "      <td>51.4</td>\n",
       "      <td>1.4</td>\n",
       "    </tr>\n",
       "    <tr>\n",
       "      <th>17816</th>\n",
       "      <td>2009</td>\n",
       "      <td>4000</td>\n",
       "      <td>Manual</td>\n",
       "      <td>49500</td>\n",
       "      <td>Petrol</td>\n",
       "      <td>150</td>\n",
       "      <td>49.6</td>\n",
       "      <td>1.4</td>\n",
       "    </tr>\n",
       "    <tr>\n",
       "      <th>17845</th>\n",
       "      <td>2011</td>\n",
       "      <td>6750</td>\n",
       "      <td>Manual</td>\n",
       "      <td>48000</td>\n",
       "      <td>Petrol</td>\n",
       "      <td>145</td>\n",
       "      <td>47.1</td>\n",
       "      <td>1.6</td>\n",
       "    </tr>\n",
       "  </tbody>\n",
       "</table>\n",
       "<p>497 rows × 8 columns</p>\n",
       "</div>"
      ],
      "text/plain": [
       "       year  price transmission  mileage fuelType  tax   mpg  engineSize\n",
       "13463  2012   5250       Manual    46970   Petrol  125  50.4         1.2\n",
       "13464  2008   3495       Manual    27930   Petrol  235  39.8         1.8\n",
       "13466  2010   4750    Automatic    26588   Petrol  260  37.7         1.6\n",
       "13467  2012   5495       Manual    53210   Petrol  125  50.4         1.2\n",
       "13468  2009   3695       Manual    62000   Petrol  145  49.6         1.2\n",
       "...     ...    ...          ...      ...      ...  ...   ...         ...\n",
       "17761  2005   2495    Automatic    87908   Petrol  265  36.7         1.6\n",
       "17780  2012   5500       Manual    64068   Petrol  150  48.7         1.4\n",
       "17785  2012   5500       Manual    64068   Diesel  125  51.4         1.4\n",
       "17816  2009   4000       Manual    49500   Petrol  150  49.6         1.4\n",
       "17845  2011   6750       Manual    48000   Petrol  145  47.1         1.6\n",
       "\n",
       "[497 rows x 8 columns]"
      ]
     },
     "execution_count": 37,
     "metadata": {},
     "output_type": "execute_result"
    }
   ],
   "source": [
    "data.loc[data['year']<lower_limit]"
   ]
  },
  {
   "cell_type": "code",
   "execution_count": 38,
   "id": "2a088dd7-da31-4c79-8f6b-712dfcaccd21",
   "metadata": {},
   "outputs": [],
   "source": [
    "data.loc[data['year']<lower_limit,'year']=data['year'].median()"
   ]
  },
  {
   "cell_type": "code",
   "execution_count": 39,
   "id": "5c73b06e-faca-4fbb-bc02-cef6af7dc811",
   "metadata": {},
   "outputs": [
    {
     "data": {
      "text/html": [
       "<div>\n",
       "<style scoped>\n",
       "    .dataframe tbody tr th:only-of-type {\n",
       "        vertical-align: middle;\n",
       "    }\n",
       "\n",
       "    .dataframe tbody tr th {\n",
       "        vertical-align: top;\n",
       "    }\n",
       "\n",
       "    .dataframe thead th {\n",
       "        text-align: right;\n",
       "    }\n",
       "</style>\n",
       "<table border=\"1\" class=\"dataframe\">\n",
       "  <thead>\n",
       "    <tr style=\"text-align: right;\">\n",
       "      <th></th>\n",
       "      <th>year</th>\n",
       "      <th>price</th>\n",
       "      <th>transmission</th>\n",
       "      <th>mileage</th>\n",
       "      <th>fuelType</th>\n",
       "      <th>tax</th>\n",
       "      <th>mpg</th>\n",
       "      <th>engineSize</th>\n",
       "    </tr>\n",
       "  </thead>\n",
       "  <tbody>\n",
       "  </tbody>\n",
       "</table>\n",
       "</div>"
      ],
      "text/plain": [
       "Empty DataFrame\n",
       "Columns: [year, price, transmission, mileage, fuelType, tax, mpg, engineSize]\n",
       "Index: []"
      ]
     },
     "execution_count": 39,
     "metadata": {},
     "output_type": "execute_result"
    }
   ],
   "source": [
    "data.loc[data['year']<lower_limit]"
   ]
  },
  {
   "cell_type": "code",
   "execution_count": 40,
   "id": "b239149b-0875-4eb5-8fe0-f693195a8426",
   "metadata": {},
   "outputs": [],
   "source": [
    "## price \n",
    "Q3 = data.price.quantile(0.75)\n",
    "Q1 = data.price.quantile(0.25)\n",
    "IQR = Q3 - Q1\n",
    "upper_limit = Q3 + 1.5 * IQR\n",
    "lower_limit = Q1 - 1.5 * IQR"
   ]
  },
  {
   "cell_type": "code",
   "execution_count": 41,
   "id": "db37fd95-89dd-4029-85cd-0942f42a43a8",
   "metadata": {},
   "outputs": [
    {
     "data": {
      "text/plain": [
       "1.5832912245241704"
      ]
     },
     "execution_count": 41,
     "metadata": {},
     "output_type": "execute_result"
    }
   ],
   "source": [
    "len(data.loc[data['price']>upper_limit])/len(data)*100"
   ]
  },
  {
   "cell_type": "code",
   "execution_count": 42,
   "id": "0b8ed813-02e4-49a8-80f6-f15d1d55db42",
   "metadata": {},
   "outputs": [
    {
     "data": {
      "text/plain": [
       "0.0"
      ]
     },
     "execution_count": 42,
     "metadata": {},
     "output_type": "execute_result"
    }
   ],
   "source": [
    "len(data.loc[data['price']<lower_limit])/len(data)*100"
   ]
  },
  {
   "cell_type": "code",
   "execution_count": 43,
   "id": "1cd46f6f-f001-43f4-aa1f-e65aab42767e",
   "metadata": {},
   "outputs": [
    {
     "data": {
      "text/html": [
       "<div>\n",
       "<style scoped>\n",
       "    .dataframe tbody tr th:only-of-type {\n",
       "        vertical-align: middle;\n",
       "    }\n",
       "\n",
       "    .dataframe tbody tr th {\n",
       "        vertical-align: top;\n",
       "    }\n",
       "\n",
       "    .dataframe thead th {\n",
       "        text-align: right;\n",
       "    }\n",
       "</style>\n",
       "<table border=\"1\" class=\"dataframe\">\n",
       "  <thead>\n",
       "    <tr style=\"text-align: right;\">\n",
       "      <th></th>\n",
       "      <th>year</th>\n",
       "      <th>price</th>\n",
       "      <th>transmission</th>\n",
       "      <th>mileage</th>\n",
       "      <th>fuelType</th>\n",
       "      <th>tax</th>\n",
       "      <th>mpg</th>\n",
       "      <th>engineSize</th>\n",
       "    </tr>\n",
       "  </thead>\n",
       "  <tbody>\n",
       "    <tr>\n",
       "      <th>8</th>\n",
       "      <td>2019</td>\n",
       "      <td>25500</td>\n",
       "      <td>Automatic</td>\n",
       "      <td>6894</td>\n",
       "      <td>Diesel</td>\n",
       "      <td>145</td>\n",
       "      <td>42.2</td>\n",
       "      <td>2.0</td>\n",
       "    </tr>\n",
       "    <tr>\n",
       "      <th>91</th>\n",
       "      <td>2016</td>\n",
       "      <td>24995</td>\n",
       "      <td>Manual</td>\n",
       "      <td>7997</td>\n",
       "      <td>Petrol</td>\n",
       "      <td>235</td>\n",
       "      <td>36.7</td>\n",
       "      <td>2.3</td>\n",
       "    </tr>\n",
       "    <tr>\n",
       "      <th>230</th>\n",
       "      <td>2020</td>\n",
       "      <td>34498</td>\n",
       "      <td>Semi-Auto</td>\n",
       "      <td>4623</td>\n",
       "      <td>Diesel</td>\n",
       "      <td>145</td>\n",
       "      <td>43.5</td>\n",
       "      <td>2.0</td>\n",
       "    </tr>\n",
       "    <tr>\n",
       "      <th>302</th>\n",
       "      <td>2020</td>\n",
       "      <td>42489</td>\n",
       "      <td>Automatic</td>\n",
       "      <td>3500</td>\n",
       "      <td>Petrol</td>\n",
       "      <td>145</td>\n",
       "      <td>22.1</td>\n",
       "      <td>5.0</td>\n",
       "    </tr>\n",
       "    <tr>\n",
       "      <th>339</th>\n",
       "      <td>2020</td>\n",
       "      <td>38489</td>\n",
       "      <td>Automatic</td>\n",
       "      <td>3500</td>\n",
       "      <td>Petrol</td>\n",
       "      <td>145</td>\n",
       "      <td>30.7</td>\n",
       "      <td>2.3</td>\n",
       "    </tr>\n",
       "    <tr>\n",
       "      <th>...</th>\n",
       "      <td>...</td>\n",
       "      <td>...</td>\n",
       "      <td>...</td>\n",
       "      <td>...</td>\n",
       "      <td>...</td>\n",
       "      <td>...</td>\n",
       "      <td>...</td>\n",
       "      <td>...</td>\n",
       "    </tr>\n",
       "    <tr>\n",
       "      <th>17838</th>\n",
       "      <td>2020</td>\n",
       "      <td>30000</td>\n",
       "      <td>Automatic</td>\n",
       "      <td>1000</td>\n",
       "      <td>Diesel</td>\n",
       "      <td>145</td>\n",
       "      <td>43.5</td>\n",
       "      <td>2.0</td>\n",
       "    </tr>\n",
       "    <tr>\n",
       "      <th>17866</th>\n",
       "      <td>2020</td>\n",
       "      <td>48000</td>\n",
       "      <td>Manual</td>\n",
       "      <td>50</td>\n",
       "      <td>Petrol</td>\n",
       "      <td>145</td>\n",
       "      <td>23.9</td>\n",
       "      <td>5.0</td>\n",
       "    </tr>\n",
       "    <tr>\n",
       "      <th>17868</th>\n",
       "      <td>2020</td>\n",
       "      <td>25050</td>\n",
       "      <td>Manual</td>\n",
       "      <td>50</td>\n",
       "      <td>Diesel</td>\n",
       "      <td>145</td>\n",
       "      <td>38.2</td>\n",
       "      <td>2.0</td>\n",
       "    </tr>\n",
       "    <tr>\n",
       "      <th>17890</th>\n",
       "      <td>2018</td>\n",
       "      <td>25999</td>\n",
       "      <td>Automatic</td>\n",
       "      <td>19458</td>\n",
       "      <td>Diesel</td>\n",
       "      <td>145</td>\n",
       "      <td>47.9</td>\n",
       "      <td>2.0</td>\n",
       "    </tr>\n",
       "    <tr>\n",
       "      <th>17903</th>\n",
       "      <td>2020</td>\n",
       "      <td>24999</td>\n",
       "      <td>Manual</td>\n",
       "      <td>4900</td>\n",
       "      <td>Petrol</td>\n",
       "      <td>145</td>\n",
       "      <td>34.5</td>\n",
       "      <td>2.3</td>\n",
       "    </tr>\n",
       "  </tbody>\n",
       "</table>\n",
       "<p>282 rows × 8 columns</p>\n",
       "</div>"
      ],
      "text/plain": [
       "       year  price transmission  mileage fuelType  tax   mpg  engineSize\n",
       "8      2019  25500    Automatic     6894   Diesel  145  42.2         2.0\n",
       "91     2016  24995       Manual     7997   Petrol  235  36.7         2.3\n",
       "230    2020  34498    Semi-Auto     4623   Diesel  145  43.5         2.0\n",
       "302    2020  42489    Automatic     3500   Petrol  145  22.1         5.0\n",
       "339    2020  38489    Automatic     3500   Petrol  145  30.7         2.3\n",
       "...     ...    ...          ...      ...      ...  ...   ...         ...\n",
       "17838  2020  30000    Automatic     1000   Diesel  145  43.5         2.0\n",
       "17866  2020  48000       Manual       50   Petrol  145  23.9         5.0\n",
       "17868  2020  25050       Manual       50   Diesel  145  38.2         2.0\n",
       "17890  2018  25999    Automatic    19458   Diesel  145  47.9         2.0\n",
       "17903  2020  24999       Manual     4900   Petrol  145  34.5         2.3\n",
       "\n",
       "[282 rows x 8 columns]"
      ]
     },
     "execution_count": 43,
     "metadata": {},
     "output_type": "execute_result"
    }
   ],
   "source": [
    "data.loc[data['price']>upper_limit]"
   ]
  },
  {
   "cell_type": "code",
   "execution_count": 44,
   "id": "a6995359-6216-4663-9e43-c7e41a851b39",
   "metadata": {},
   "outputs": [],
   "source": [
    "data.loc[data['price']>upper_limit,'price']=data['price'].mean()"
   ]
  },
  {
   "cell_type": "code",
   "execution_count": 45,
   "id": "ba3ecf53-b638-4f19-b6ed-0d2c0afc59f9",
   "metadata": {},
   "outputs": [
    {
     "data": {
      "text/html": [
       "<div>\n",
       "<style scoped>\n",
       "    .dataframe tbody tr th:only-of-type {\n",
       "        vertical-align: middle;\n",
       "    }\n",
       "\n",
       "    .dataframe tbody tr th {\n",
       "        vertical-align: top;\n",
       "    }\n",
       "\n",
       "    .dataframe thead th {\n",
       "        text-align: right;\n",
       "    }\n",
       "</style>\n",
       "<table border=\"1\" class=\"dataframe\">\n",
       "  <thead>\n",
       "    <tr style=\"text-align: right;\">\n",
       "      <th></th>\n",
       "      <th>year</th>\n",
       "      <th>price</th>\n",
       "      <th>transmission</th>\n",
       "      <th>mileage</th>\n",
       "      <th>fuelType</th>\n",
       "      <th>tax</th>\n",
       "      <th>mpg</th>\n",
       "      <th>engineSize</th>\n",
       "    </tr>\n",
       "  </thead>\n",
       "  <tbody>\n",
       "  </tbody>\n",
       "</table>\n",
       "</div>"
      ],
      "text/plain": [
       "Empty DataFrame\n",
       "Columns: [year, price, transmission, mileage, fuelType, tax, mpg, engineSize]\n",
       "Index: []"
      ]
     },
     "execution_count": 45,
     "metadata": {},
     "output_type": "execute_result"
    }
   ],
   "source": [
    "data.loc[data['price']>upper_limit]"
   ]
  },
  {
   "cell_type": "code",
   "execution_count": 46,
   "id": "a31f1536-b600-4800-9132-6c03011b03c5",
   "metadata": {},
   "outputs": [],
   "source": [
    "## mileage\n",
    "Q3 = data.mileage.quantile(0.75)\n",
    "Q1 = data.mileage.quantile(0.25)\n",
    "IQR = Q3 - Q1\n",
    "upper_limit = Q3 + 1.5 * IQR\n",
    "lower_limit = Q1 - 1.5 * IQR"
   ]
  },
  {
   "cell_type": "code",
   "execution_count": 47,
   "id": "7fe6dd47-8166-4b52-9c5d-2d859fad03f0",
   "metadata": {},
   "outputs": [
    {
     "data": {
      "text/plain": [
       "4.8509348155634155"
      ]
     },
     "execution_count": 47,
     "metadata": {},
     "output_type": "execute_result"
    }
   ],
   "source": [
    "len(data.loc[data['mileage']>upper_limit])/len(data)*100"
   ]
  },
  {
   "cell_type": "code",
   "execution_count": 48,
   "id": "05e8ad2a-33fd-4b16-8fba-d9aca686143d",
   "metadata": {},
   "outputs": [
    {
     "data": {
      "text/plain": [
       "0.0"
      ]
     },
     "execution_count": 48,
     "metadata": {},
     "output_type": "execute_result"
    }
   ],
   "source": [
    "len(data.loc[data['mileage']<lower_limit])/len(data)*100"
   ]
  },
  {
   "cell_type": "code",
   "execution_count": 49,
   "id": "2440437e-0ead-4ac5-bc21-fee89164a5da",
   "metadata": {},
   "outputs": [],
   "source": [
    "data.loc[data['mileage']>upper_limit,'mileage']=data['mileage'].mean()"
   ]
  },
  {
   "cell_type": "code",
   "execution_count": 50,
   "id": "d11b451a-c891-4532-8511-a09113b0be8d",
   "metadata": {},
   "outputs": [
    {
     "data": {
      "text/html": [
       "<div>\n",
       "<style scoped>\n",
       "    .dataframe tbody tr th:only-of-type {\n",
       "        vertical-align: middle;\n",
       "    }\n",
       "\n",
       "    .dataframe tbody tr th {\n",
       "        vertical-align: top;\n",
       "    }\n",
       "\n",
       "    .dataframe thead th {\n",
       "        text-align: right;\n",
       "    }\n",
       "</style>\n",
       "<table border=\"1\" class=\"dataframe\">\n",
       "  <thead>\n",
       "    <tr style=\"text-align: right;\">\n",
       "      <th></th>\n",
       "      <th>year</th>\n",
       "      <th>price</th>\n",
       "      <th>transmission</th>\n",
       "      <th>mileage</th>\n",
       "      <th>fuelType</th>\n",
       "      <th>tax</th>\n",
       "      <th>mpg</th>\n",
       "      <th>engineSize</th>\n",
       "    </tr>\n",
       "  </thead>\n",
       "  <tbody>\n",
       "  </tbody>\n",
       "</table>\n",
       "</div>"
      ],
      "text/plain": [
       "Empty DataFrame\n",
       "Columns: [year, price, transmission, mileage, fuelType, tax, mpg, engineSize]\n",
       "Index: []"
      ]
     },
     "execution_count": 50,
     "metadata": {},
     "output_type": "execute_result"
    }
   ],
   "source": [
    "data.loc[data['mileage']>upper_limit]"
   ]
  },
  {
   "cell_type": "code",
   "execution_count": 51,
   "id": "d12d77cf-594b-406a-af0d-a334f26240c6",
   "metadata": {},
   "outputs": [],
   "source": [
    "## tax\n",
    "Q3 = data.tax.quantile(0.75)\n",
    "Q1 = data.tax.quantile(0.25)\n",
    "IQR = Q3 - Q1\n",
    "upper_limit = Q3 + 1.5 * IQR\n",
    "lower_limit = Q1 - 1.5 * IQR"
   ]
  },
  {
   "cell_type": "code",
   "execution_count": 52,
   "id": "78f3a176-314a-4c07-9db7-58b8d82dfdc4",
   "metadata": {},
   "outputs": [
    {
     "data": {
      "text/plain": [
       "0.11229015776767168"
      ]
     },
     "execution_count": 52,
     "metadata": {},
     "output_type": "execute_result"
    }
   ],
   "source": [
    "len(data.loc[data['tax']>upper_limit])/len(data)*100"
   ]
  },
  {
   "cell_type": "code",
   "execution_count": 53,
   "id": "cd9daec0-4f34-495a-b3ee-b77db67e079d",
   "metadata": {},
   "outputs": [
    {
     "data": {
      "text/plain": [
       "0.0"
      ]
     },
     "execution_count": 53,
     "metadata": {},
     "output_type": "execute_result"
    }
   ],
   "source": [
    "len(data.loc[data['tax']<lower_limit])/len(data)*100"
   ]
  },
  {
   "cell_type": "code",
   "execution_count": 54,
   "id": "24282d71-afd8-408b-954b-631e39567ae8",
   "metadata": {},
   "outputs": [],
   "source": [
    "data.loc[data['tax']>upper_limit,'tax']=data['tax'].mean()"
   ]
  },
  {
   "cell_type": "code",
   "execution_count": 55,
   "id": "9436c8cf-9d4d-4fb1-a5cf-6e549bcbabd2",
   "metadata": {},
   "outputs": [
    {
     "data": {
      "text/html": [
       "<div>\n",
       "<style scoped>\n",
       "    .dataframe tbody tr th:only-of-type {\n",
       "        vertical-align: middle;\n",
       "    }\n",
       "\n",
       "    .dataframe tbody tr th {\n",
       "        vertical-align: top;\n",
       "    }\n",
       "\n",
       "    .dataframe thead th {\n",
       "        text-align: right;\n",
       "    }\n",
       "</style>\n",
       "<table border=\"1\" class=\"dataframe\">\n",
       "  <thead>\n",
       "    <tr style=\"text-align: right;\">\n",
       "      <th></th>\n",
       "      <th>year</th>\n",
       "      <th>price</th>\n",
       "      <th>transmission</th>\n",
       "      <th>mileage</th>\n",
       "      <th>fuelType</th>\n",
       "      <th>tax</th>\n",
       "      <th>mpg</th>\n",
       "      <th>engineSize</th>\n",
       "    </tr>\n",
       "  </thead>\n",
       "  <tbody>\n",
       "  </tbody>\n",
       "</table>\n",
       "</div>"
      ],
      "text/plain": [
       "Empty DataFrame\n",
       "Columns: [year, price, transmission, mileage, fuelType, tax, mpg, engineSize]\n",
       "Index: []"
      ]
     },
     "execution_count": 55,
     "metadata": {},
     "output_type": "execute_result"
    }
   ],
   "source": [
    "data.loc[data['tax']>upper_limit]"
   ]
  },
  {
   "cell_type": "code",
   "execution_count": 56,
   "id": "827f0668-3ac2-4caa-b17d-ae518591546a",
   "metadata": {},
   "outputs": [],
   "source": [
    "## mpg\n",
    "Q3 = data.mpg.quantile(0.75)\n",
    "Q1 = data.mpg.quantile(0.25)\n",
    "IQR = Q3 - Q1\n",
    "upper_limit = Q3 + 1.5 * IQR\n",
    "lower_limit = Q1 - 1.5 * IQR"
   ]
  },
  {
   "cell_type": "code",
   "execution_count": 57,
   "id": "2d904f8e-4369-4679-ba9a-ce5ca7b17f6c",
   "metadata": {},
   "outputs": [
    {
     "data": {
      "text/plain": [
       "0.49969120206613893"
      ]
     },
     "execution_count": 57,
     "metadata": {},
     "output_type": "execute_result"
    }
   ],
   "source": [
    "len(data.loc[data['mpg']>upper_limit])/len(data)*100"
   ]
  },
  {
   "cell_type": "code",
   "execution_count": 58,
   "id": "2401004b-e98c-4e7d-b078-6d176a5108c8",
   "metadata": {},
   "outputs": [
    {
     "data": {
      "text/plain": [
       "0.7130425018247151"
      ]
     },
     "execution_count": 58,
     "metadata": {},
     "output_type": "execute_result"
    }
   ],
   "source": [
    "len(data.loc[data['mpg']<lower_limit])/len(data)*100"
   ]
  },
  {
   "cell_type": "code",
   "execution_count": 59,
   "id": "e8aeefc8-88fc-49dd-b254-b48943696080",
   "metadata": {},
   "outputs": [],
   "source": [
    "data.loc[data['mpg']>upper_limit,'mpg']=data['mpg'].mean()"
   ]
  },
  {
   "cell_type": "code",
   "execution_count": 60,
   "id": "b235f7f7-6744-4a47-bd2f-1ffc5f380b4a",
   "metadata": {},
   "outputs": [
    {
     "data": {
      "text/html": [
       "<div>\n",
       "<style scoped>\n",
       "    .dataframe tbody tr th:only-of-type {\n",
       "        vertical-align: middle;\n",
       "    }\n",
       "\n",
       "    .dataframe tbody tr th {\n",
       "        vertical-align: top;\n",
       "    }\n",
       "\n",
       "    .dataframe thead th {\n",
       "        text-align: right;\n",
       "    }\n",
       "</style>\n",
       "<table border=\"1\" class=\"dataframe\">\n",
       "  <thead>\n",
       "    <tr style=\"text-align: right;\">\n",
       "      <th></th>\n",
       "      <th>year</th>\n",
       "      <th>price</th>\n",
       "      <th>transmission</th>\n",
       "      <th>mileage</th>\n",
       "      <th>fuelType</th>\n",
       "      <th>tax</th>\n",
       "      <th>mpg</th>\n",
       "      <th>engineSize</th>\n",
       "    </tr>\n",
       "  </thead>\n",
       "  <tbody>\n",
       "  </tbody>\n",
       "</table>\n",
       "</div>"
      ],
      "text/plain": [
       "Empty DataFrame\n",
       "Columns: [year, price, transmission, mileage, fuelType, tax, mpg, engineSize]\n",
       "Index: []"
      ]
     },
     "execution_count": 60,
     "metadata": {},
     "output_type": "execute_result"
    }
   ],
   "source": [
    "data.loc[data['mpg']>upper_limit]"
   ]
  },
  {
   "cell_type": "code",
   "execution_count": 61,
   "id": "0c028898-fa75-4b7b-b955-f8da65fdef00",
   "metadata": {},
   "outputs": [],
   "source": [
    "data.loc[data['mpg']<lower_limit,'mpg']=data['mpg'].mean()"
   ]
  },
  {
   "cell_type": "code",
   "execution_count": 62,
   "id": "8dda3ad4-db0b-4262-9c22-bf05d1f217c3",
   "metadata": {},
   "outputs": [
    {
     "data": {
      "text/html": [
       "<div>\n",
       "<style scoped>\n",
       "    .dataframe tbody tr th:only-of-type {\n",
       "        vertical-align: middle;\n",
       "    }\n",
       "\n",
       "    .dataframe tbody tr th {\n",
       "        vertical-align: top;\n",
       "    }\n",
       "\n",
       "    .dataframe thead th {\n",
       "        text-align: right;\n",
       "    }\n",
       "</style>\n",
       "<table border=\"1\" class=\"dataframe\">\n",
       "  <thead>\n",
       "    <tr style=\"text-align: right;\">\n",
       "      <th></th>\n",
       "      <th>year</th>\n",
       "      <th>price</th>\n",
       "      <th>transmission</th>\n",
       "      <th>mileage</th>\n",
       "      <th>fuelType</th>\n",
       "      <th>tax</th>\n",
       "      <th>mpg</th>\n",
       "      <th>engineSize</th>\n",
       "    </tr>\n",
       "  </thead>\n",
       "  <tbody>\n",
       "  </tbody>\n",
       "</table>\n",
       "</div>"
      ],
      "text/plain": [
       "Empty DataFrame\n",
       "Columns: [year, price, transmission, mileage, fuelType, tax, mpg, engineSize]\n",
       "Index: []"
      ]
     },
     "execution_count": 62,
     "metadata": {},
     "output_type": "execute_result"
    }
   ],
   "source": [
    "data.loc[data['mpg']<lower_limit]"
   ]
  },
  {
   "cell_type": "code",
   "execution_count": 63,
   "id": "64d6ddbb-46f2-4e08-94ea-f73f54be02ea",
   "metadata": {},
   "outputs": [
    {
     "data": {
      "text/html": [
       "<div>\n",
       "<style scoped>\n",
       "    .dataframe tbody tr th:only-of-type {\n",
       "        vertical-align: middle;\n",
       "    }\n",
       "\n",
       "    .dataframe tbody tr th {\n",
       "        vertical-align: top;\n",
       "    }\n",
       "\n",
       "    .dataframe thead th {\n",
       "        text-align: right;\n",
       "    }\n",
       "</style>\n",
       "<table border=\"1\" class=\"dataframe\">\n",
       "  <thead>\n",
       "    <tr style=\"text-align: right;\">\n",
       "      <th></th>\n",
       "      <th>year</th>\n",
       "      <th>price</th>\n",
       "      <th>transmission</th>\n",
       "      <th>mileage</th>\n",
       "      <th>fuelType</th>\n",
       "      <th>tax</th>\n",
       "      <th>mpg</th>\n",
       "      <th>engineSize</th>\n",
       "    </tr>\n",
       "  </thead>\n",
       "  <tbody>\n",
       "    <tr>\n",
       "      <th>0</th>\n",
       "      <td>2017</td>\n",
       "      <td>12000.0</td>\n",
       "      <td>Automatic</td>\n",
       "      <td>15944.0</td>\n",
       "      <td>Petrol</td>\n",
       "      <td>150.0</td>\n",
       "      <td>57.7</td>\n",
       "      <td>1.0</td>\n",
       "    </tr>\n",
       "    <tr>\n",
       "      <th>1</th>\n",
       "      <td>2018</td>\n",
       "      <td>14000.0</td>\n",
       "      <td>Manual</td>\n",
       "      <td>9083.0</td>\n",
       "      <td>Petrol</td>\n",
       "      <td>150.0</td>\n",
       "      <td>57.7</td>\n",
       "      <td>1.0</td>\n",
       "    </tr>\n",
       "    <tr>\n",
       "      <th>2</th>\n",
       "      <td>2017</td>\n",
       "      <td>13000.0</td>\n",
       "      <td>Manual</td>\n",
       "      <td>12456.0</td>\n",
       "      <td>Petrol</td>\n",
       "      <td>150.0</td>\n",
       "      <td>57.7</td>\n",
       "      <td>1.0</td>\n",
       "    </tr>\n",
       "    <tr>\n",
       "      <th>3</th>\n",
       "      <td>2019</td>\n",
       "      <td>17500.0</td>\n",
       "      <td>Manual</td>\n",
       "      <td>10460.0</td>\n",
       "      <td>Petrol</td>\n",
       "      <td>145.0</td>\n",
       "      <td>40.3</td>\n",
       "      <td>1.5</td>\n",
       "    </tr>\n",
       "    <tr>\n",
       "      <th>4</th>\n",
       "      <td>2019</td>\n",
       "      <td>16500.0</td>\n",
       "      <td>Automatic</td>\n",
       "      <td>1482.0</td>\n",
       "      <td>Petrol</td>\n",
       "      <td>145.0</td>\n",
       "      <td>48.7</td>\n",
       "      <td>1.0</td>\n",
       "    </tr>\n",
       "  </tbody>\n",
       "</table>\n",
       "</div>"
      ],
      "text/plain": [
       "   year    price transmission  mileage fuelType    tax   mpg  engineSize\n",
       "0  2017  12000.0    Automatic  15944.0   Petrol  150.0  57.7         1.0\n",
       "1  2018  14000.0       Manual   9083.0   Petrol  150.0  57.7         1.0\n",
       "2  2017  13000.0       Manual  12456.0   Petrol  150.0  57.7         1.0\n",
       "3  2019  17500.0       Manual  10460.0   Petrol  145.0  40.3         1.5\n",
       "4  2019  16500.0    Automatic   1482.0   Petrol  145.0  48.7         1.0"
      ]
     },
     "execution_count": 63,
     "metadata": {},
     "output_type": "execute_result"
    }
   ],
   "source": [
    "data.head()"
   ]
  },
  {
   "cell_type": "code",
   "execution_count": 64,
   "id": "d623fdf8-3b0b-43fc-93b7-fe863ea496a7",
   "metadata": {},
   "outputs": [],
   "source": [
    "## engineSize\n",
    "Q3 = data.engineSize.quantile(0.75)\n",
    "Q1 = data.engineSize.quantile(0.25)\n",
    "IQR = Q3 - Q1\n",
    "upper_limit = Q3 + 1.5 * IQR\n",
    "lower_limit = Q1 - 1.5 * IQR"
   ]
  },
  {
   "cell_type": "code",
   "execution_count": 65,
   "id": "72363a31-9138-4588-8400-81883ea0e6e9",
   "metadata": {},
   "outputs": [
    {
     "data": {
      "text/plain": [
       "0.7804165964853181"
      ]
     },
     "execution_count": 65,
     "metadata": {},
     "output_type": "execute_result"
    }
   ],
   "source": [
    "len(data.loc[data['engineSize']>upper_limit])/len(data)*100"
   ]
  },
  {
   "cell_type": "code",
   "execution_count": 66,
   "id": "b4f9f71d-ff91-4e57-b97b-ead4cb8cb393",
   "metadata": {},
   "outputs": [
    {
     "data": {
      "text/plain": [
       "0.28072539441917915"
      ]
     },
     "execution_count": 66,
     "metadata": {},
     "output_type": "execute_result"
    }
   ],
   "source": [
    "len(data.loc[data['engineSize']<lower_limit])/len(data)*100"
   ]
  },
  {
   "cell_type": "code",
   "execution_count": 67,
   "id": "5336d470-ac0a-44c2-b8e5-978c22a440f9",
   "metadata": {},
   "outputs": [
    {
     "data": {
      "text/plain": [
       "engineSize\n",
       "1.0    7702\n",
       "1.5    3393\n",
       "2.0    3273\n",
       "1.2    1613\n",
       "1.6     918\n",
       "1.1     550\n",
       "1.4     112\n",
       "2.3      80\n",
       "0.0      50\n",
       "5.0      45\n",
       "1.8      35\n",
       "2.2      13\n",
       "2.5      13\n",
       "1.3      12\n",
       "3.2       1\n",
       "1.7       1\n",
       "Name: count, dtype: int64"
      ]
     },
     "execution_count": 67,
     "metadata": {},
     "output_type": "execute_result"
    }
   ],
   "source": [
    "data.engineSize.value_counts()"
   ]
  },
  {
   "cell_type": "code",
   "execution_count": 68,
   "id": "1e505961-688f-4afd-9c8e-aaf950d9e295",
   "metadata": {},
   "outputs": [],
   "source": [
    "data.loc[data['engineSize']>upper_limit,'engineSize']=data['engineSize'].median()"
   ]
  },
  {
   "cell_type": "code",
   "execution_count": 69,
   "id": "026b13cc-6f14-4947-ab75-1d8060a21a73",
   "metadata": {},
   "outputs": [],
   "source": [
    "data.loc[data['engineSize']<lower_limit,'engineSize']=data['engineSize'].median()"
   ]
  },
  {
   "cell_type": "code",
   "execution_count": 70,
   "id": "137b2363-17f0-419b-a082-d434f834c277",
   "metadata": {},
   "outputs": [
    {
     "data": {
      "text/html": [
       "<div>\n",
       "<style scoped>\n",
       "    .dataframe tbody tr th:only-of-type {\n",
       "        vertical-align: middle;\n",
       "    }\n",
       "\n",
       "    .dataframe tbody tr th {\n",
       "        vertical-align: top;\n",
       "    }\n",
       "\n",
       "    .dataframe thead th {\n",
       "        text-align: right;\n",
       "    }\n",
       "</style>\n",
       "<table border=\"1\" class=\"dataframe\">\n",
       "  <thead>\n",
       "    <tr style=\"text-align: right;\">\n",
       "      <th></th>\n",
       "      <th>year</th>\n",
       "      <th>price</th>\n",
       "      <th>transmission</th>\n",
       "      <th>mileage</th>\n",
       "      <th>fuelType</th>\n",
       "      <th>tax</th>\n",
       "      <th>mpg</th>\n",
       "      <th>engineSize</th>\n",
       "    </tr>\n",
       "  </thead>\n",
       "  <tbody>\n",
       "  </tbody>\n",
       "</table>\n",
       "</div>"
      ],
      "text/plain": [
       "Empty DataFrame\n",
       "Columns: [year, price, transmission, mileage, fuelType, tax, mpg, engineSize]\n",
       "Index: []"
      ]
     },
     "execution_count": 70,
     "metadata": {},
     "output_type": "execute_result"
    }
   ],
   "source": [
    "data.loc[data['engineSize']>upper_limit]"
   ]
  },
  {
   "cell_type": "code",
   "execution_count": 71,
   "id": "50b2f056-f4d8-4f31-916d-7c324e3d4b2f",
   "metadata": {},
   "outputs": [
    {
     "data": {
      "text/html": [
       "<div>\n",
       "<style scoped>\n",
       "    .dataframe tbody tr th:only-of-type {\n",
       "        vertical-align: middle;\n",
       "    }\n",
       "\n",
       "    .dataframe tbody tr th {\n",
       "        vertical-align: top;\n",
       "    }\n",
       "\n",
       "    .dataframe thead th {\n",
       "        text-align: right;\n",
       "    }\n",
       "</style>\n",
       "<table border=\"1\" class=\"dataframe\">\n",
       "  <thead>\n",
       "    <tr style=\"text-align: right;\">\n",
       "      <th></th>\n",
       "      <th>year</th>\n",
       "      <th>price</th>\n",
       "      <th>transmission</th>\n",
       "      <th>mileage</th>\n",
       "      <th>fuelType</th>\n",
       "      <th>tax</th>\n",
       "      <th>mpg</th>\n",
       "      <th>engineSize</th>\n",
       "    </tr>\n",
       "  </thead>\n",
       "  <tbody>\n",
       "  </tbody>\n",
       "</table>\n",
       "</div>"
      ],
      "text/plain": [
       "Empty DataFrame\n",
       "Columns: [year, price, transmission, mileage, fuelType, tax, mpg, engineSize]\n",
       "Index: []"
      ]
     },
     "execution_count": 71,
     "metadata": {},
     "output_type": "execute_result"
    }
   ],
   "source": [
    "data.loc[data['engineSize']<lower_limit]"
   ]
  },
  {
   "cell_type": "markdown",
   "id": "3b93bc72-8a40-4473-bc54-431cb348f349",
   "metadata": {},
   "source": [
    "## Handling all outliers"
   ]
  },
  {
   "cell_type": "code",
   "execution_count": 72,
   "id": "9f13ffce-4424-4fa1-842f-0a396a967c23",
   "metadata": {},
   "outputs": [
    {
     "data": {
      "image/png": "[encoded data removed]",
      "text/plain": [
       "<Figure size 2000x1500 with 6 Axes>"
      ]
     },
     "metadata": {},
     "output_type": "display_data"
    }
   ],
   "source": [
    "plt.figure(figsize=(20,15))\n",
    "plotnumber=1\n",
    "for i in num_col:\n",
    "    if plotnumber<=9:\n",
    "        plt.subplot(3,3,plotnumber)\n",
    "        sns.boxplot(num_col[i])\n",
    "        plt.xlabel(i,fontsize=15)\n",
    "        plt.ylabel(\"Counts\",fontsize=15)\n",
    "    plotnumber+=1\n",
    "plt.tight_layout()"
   ]
  },
  {
   "cell_type": "markdown",
   "id": "f1ae9732-b0bf-4f6e-a4ca-8a971d2273d1",
   "metadata": {},
   "source": [
    "### Encoding useing map"
   ]
  },
  {
   "cell_type": "code",
   "execution_count": 73,
   "id": "f77badb8-7e44-4866-abc6-bffc9a3a07c7",
   "metadata": {},
   "outputs": [
    {
     "data": {
      "text/html": [
       "<div>\n",
       "<style scoped>\n",
       "    .dataframe tbody tr th:only-of-type {\n",
       "        vertical-align: middle;\n",
       "    }\n",
       "\n",
       "    .dataframe tbody tr th {\n",
       "        vertical-align: top;\n",
       "    }\n",
       "\n",
       "    .dataframe thead th {\n",
       "        text-align: right;\n",
       "    }\n",
       "</style>\n",
       "<table border=\"1\" class=\"dataframe\">\n",
       "  <thead>\n",
       "    <tr style=\"text-align: right;\">\n",
       "      <th></th>\n",
       "      <th>year</th>\n",
       "      <th>price</th>\n",
       "      <th>transmission</th>\n",
       "      <th>mileage</th>\n",
       "      <th>fuelType</th>\n",
       "      <th>tax</th>\n",
       "      <th>mpg</th>\n",
       "      <th>engineSize</th>\n",
       "    </tr>\n",
       "  </thead>\n",
       "  <tbody>\n",
       "    <tr>\n",
       "      <th>0</th>\n",
       "      <td>2017</td>\n",
       "      <td>12000.0</td>\n",
       "      <td>Automatic</td>\n",
       "      <td>15944.0</td>\n",
       "      <td>Petrol</td>\n",
       "      <td>150.0</td>\n",
       "      <td>57.7</td>\n",
       "      <td>1.0</td>\n",
       "    </tr>\n",
       "    <tr>\n",
       "      <th>1</th>\n",
       "      <td>2018</td>\n",
       "      <td>14000.0</td>\n",
       "      <td>Manual</td>\n",
       "      <td>9083.0</td>\n",
       "      <td>Petrol</td>\n",
       "      <td>150.0</td>\n",
       "      <td>57.7</td>\n",
       "      <td>1.0</td>\n",
       "    </tr>\n",
       "    <tr>\n",
       "      <th>2</th>\n",
       "      <td>2017</td>\n",
       "      <td>13000.0</td>\n",
       "      <td>Manual</td>\n",
       "      <td>12456.0</td>\n",
       "      <td>Petrol</td>\n",
       "      <td>150.0</td>\n",
       "      <td>57.7</td>\n",
       "      <td>1.0</td>\n",
       "    </tr>\n",
       "    <tr>\n",
       "      <th>3</th>\n",
       "      <td>2019</td>\n",
       "      <td>17500.0</td>\n",
       "      <td>Manual</td>\n",
       "      <td>10460.0</td>\n",
       "      <td>Petrol</td>\n",
       "      <td>145.0</td>\n",
       "      <td>40.3</td>\n",
       "      <td>1.5</td>\n",
       "    </tr>\n",
       "    <tr>\n",
       "      <th>4</th>\n",
       "      <td>2019</td>\n",
       "      <td>16500.0</td>\n",
       "      <td>Automatic</td>\n",
       "      <td>1482.0</td>\n",
       "      <td>Petrol</td>\n",
       "      <td>145.0</td>\n",
       "      <td>48.7</td>\n",
       "      <td>1.0</td>\n",
       "    </tr>\n",
       "  </tbody>\n",
       "</table>\n",
       "</div>"
      ],
      "text/plain": [
       "   year    price transmission  mileage fuelType    tax   mpg  engineSize\n",
       "0  2017  12000.0    Automatic  15944.0   Petrol  150.0  57.7         1.0\n",
       "1  2018  14000.0       Manual   9083.0   Petrol  150.0  57.7         1.0\n",
       "2  2017  13000.0       Manual  12456.0   Petrol  150.0  57.7         1.0\n",
       "3  2019  17500.0       Manual  10460.0   Petrol  145.0  40.3         1.5\n",
       "4  2019  16500.0    Automatic   1482.0   Petrol  145.0  48.7         1.0"
      ]
     },
     "execution_count": 73,
     "metadata": {},
     "output_type": "execute_result"
    }
   ],
   "source": [
    "data.head()"
   ]
  },
  {
   "cell_type": "code",
   "execution_count": 74,
   "id": "93200f3c-0cb1-4a26-aab6-da62be138d97",
   "metadata": {},
   "outputs": [
    {
     "data": {
      "text/plain": [
       "transmission\n",
       "Manual       15382\n",
       "Automatic     1354\n",
       "Semi-Auto     1075\n",
       "Name: count, dtype: int64"
      ]
     },
     "execution_count": 74,
     "metadata": {},
     "output_type": "execute_result"
    }
   ],
   "source": [
    "## Transmission \n",
    "data.transmission.value_counts()"
   ]
  },
  {
   "cell_type": "code",
   "execution_count": 75,
   "id": "f77e8601-e3bd-4f49-875d-4c6811bbb4b1",
   "metadata": {},
   "outputs": [],
   "source": [
    "data.transmission=data.transmission.map({'Manual':2,'Automatic':1,'Semi-Auto':0})"
   ]
  },
  {
   "cell_type": "code",
   "execution_count": 76,
   "id": "ded32632-a33a-46f9-b027-54762e77e8a4",
   "metadata": {},
   "outputs": [
    {
     "data": {
      "text/html": [
       "<div>\n",
       "<style scoped>\n",
       "    .dataframe tbody tr th:only-of-type {\n",
       "        vertical-align: middle;\n",
       "    }\n",
       "\n",
       "    .dataframe tbody tr th {\n",
       "        vertical-align: top;\n",
       "    }\n",
       "\n",
       "    .dataframe thead th {\n",
       "        text-align: right;\n",
       "    }\n",
       "</style>\n",
       "<table border=\"1\" class=\"dataframe\">\n",
       "  <thead>\n",
       "    <tr style=\"text-align: right;\">\n",
       "      <th></th>\n",
       "      <th>year</th>\n",
       "      <th>price</th>\n",
       "      <th>transmission</th>\n",
       "      <th>mileage</th>\n",
       "      <th>fuelType</th>\n",
       "      <th>tax</th>\n",
       "      <th>mpg</th>\n",
       "      <th>engineSize</th>\n",
       "    </tr>\n",
       "  </thead>\n",
       "  <tbody>\n",
       "    <tr>\n",
       "      <th>0</th>\n",
       "      <td>2017</td>\n",
       "      <td>12000.0</td>\n",
       "      <td>1</td>\n",
       "      <td>15944.0</td>\n",
       "      <td>Petrol</td>\n",
       "      <td>150.0</td>\n",
       "      <td>57.7</td>\n",
       "      <td>1.0</td>\n",
       "    </tr>\n",
       "    <tr>\n",
       "      <th>1</th>\n",
       "      <td>2018</td>\n",
       "      <td>14000.0</td>\n",
       "      <td>2</td>\n",
       "      <td>9083.0</td>\n",
       "      <td>Petrol</td>\n",
       "      <td>150.0</td>\n",
       "      <td>57.7</td>\n",
       "      <td>1.0</td>\n",
       "    </tr>\n",
       "    <tr>\n",
       "      <th>2</th>\n",
       "      <td>2017</td>\n",
       "      <td>13000.0</td>\n",
       "      <td>2</td>\n",
       "      <td>12456.0</td>\n",
       "      <td>Petrol</td>\n",
       "      <td>150.0</td>\n",
       "      <td>57.7</td>\n",
       "      <td>1.0</td>\n",
       "    </tr>\n",
       "    <tr>\n",
       "      <th>3</th>\n",
       "      <td>2019</td>\n",
       "      <td>17500.0</td>\n",
       "      <td>2</td>\n",
       "      <td>10460.0</td>\n",
       "      <td>Petrol</td>\n",
       "      <td>145.0</td>\n",
       "      <td>40.3</td>\n",
       "      <td>1.5</td>\n",
       "    </tr>\n",
       "    <tr>\n",
       "      <th>4</th>\n",
       "      <td>2019</td>\n",
       "      <td>16500.0</td>\n",
       "      <td>1</td>\n",
       "      <td>1482.0</td>\n",
       "      <td>Petrol</td>\n",
       "      <td>145.0</td>\n",
       "      <td>48.7</td>\n",
       "      <td>1.0</td>\n",
       "    </tr>\n",
       "  </tbody>\n",
       "</table>\n",
       "</div>"
      ],
      "text/plain": [
       "   year    price  transmission  mileage fuelType    tax   mpg  engineSize\n",
       "0  2017  12000.0             1  15944.0   Petrol  150.0  57.7         1.0\n",
       "1  2018  14000.0             2   9083.0   Petrol  150.0  57.7         1.0\n",
       "2  2017  13000.0             2  12456.0   Petrol  150.0  57.7         1.0\n",
       "3  2019  17500.0             2  10460.0   Petrol  145.0  40.3         1.5\n",
       "4  2019  16500.0             1   1482.0   Petrol  145.0  48.7         1.0"
      ]
     },
     "execution_count": 76,
     "metadata": {},
     "output_type": "execute_result"
    }
   ],
   "source": [
    "data.head()"
   ]
  },
  {
   "cell_type": "code",
   "execution_count": 77,
   "id": "6ef0b683-5c92-47b3-88da-f4d18197bd57",
   "metadata": {},
   "outputs": [
    {
     "data": {
      "text/plain": [
       "fuelType\n",
       "Petrol      12080\n",
       "Diesel       5706\n",
       "Hybrid         22\n",
       "Electric        2\n",
       "Other           1\n",
       "Name: count, dtype: int64"
      ]
     },
     "execution_count": 77,
     "metadata": {},
     "output_type": "execute_result"
    }
   ],
   "source": [
    "## FuelType\n",
    "data.fuelType.value_counts()"
   ]
  },
  {
   "cell_type": "code",
   "execution_count": 78,
   "id": "6ead3690-4937-4efa-8e94-4b75c7072231",
   "metadata": {},
   "outputs": [],
   "source": [
    "data.fuelType=data.fuelType.map({'Petrol':4,'Diesel':3,'Hybrid':2,'Electric':1,'Other':0})"
   ]
  },
  {
   "cell_type": "code",
   "execution_count": 79,
   "id": "06f78d22-bce5-4467-baaf-89bd66685dcb",
   "metadata": {},
   "outputs": [
    {
     "data": {
      "text/html": [
       "<div>\n",
       "<style scoped>\n",
       "    .dataframe tbody tr th:only-of-type {\n",
       "        vertical-align: middle;\n",
       "    }\n",
       "\n",
       "    .dataframe tbody tr th {\n",
       "        vertical-align: top;\n",
       "    }\n",
       "\n",
       "    .dataframe thead th {\n",
       "        text-align: right;\n",
       "    }\n",
       "</style>\n",
       "<table border=\"1\" class=\"dataframe\">\n",
       "  <thead>\n",
       "    <tr style=\"text-align: right;\">\n",
       "      <th></th>\n",
       "      <th>year</th>\n",
       "      <th>price</th>\n",
       "      <th>transmission</th>\n",
       "      <th>mileage</th>\n",
       "      <th>fuelType</th>\n",
       "      <th>tax</th>\n",
       "      <th>mpg</th>\n",
       "      <th>engineSize</th>\n",
       "    </tr>\n",
       "  </thead>\n",
       "  <tbody>\n",
       "    <tr>\n",
       "      <th>0</th>\n",
       "      <td>2017</td>\n",
       "      <td>12000.0</td>\n",
       "      <td>1</td>\n",
       "      <td>15944.0</td>\n",
       "      <td>4</td>\n",
       "      <td>150.0</td>\n",
       "      <td>57.7</td>\n",
       "      <td>1.0</td>\n",
       "    </tr>\n",
       "    <tr>\n",
       "      <th>1</th>\n",
       "      <td>2018</td>\n",
       "      <td>14000.0</td>\n",
       "      <td>2</td>\n",
       "      <td>9083.0</td>\n",
       "      <td>4</td>\n",
       "      <td>150.0</td>\n",
       "      <td>57.7</td>\n",
       "      <td>1.0</td>\n",
       "    </tr>\n",
       "    <tr>\n",
       "      <th>2</th>\n",
       "      <td>2017</td>\n",
       "      <td>13000.0</td>\n",
       "      <td>2</td>\n",
       "      <td>12456.0</td>\n",
       "      <td>4</td>\n",
       "      <td>150.0</td>\n",
       "      <td>57.7</td>\n",
       "      <td>1.0</td>\n",
       "    </tr>\n",
       "    <tr>\n",
       "      <th>3</th>\n",
       "      <td>2019</td>\n",
       "      <td>17500.0</td>\n",
       "      <td>2</td>\n",
       "      <td>10460.0</td>\n",
       "      <td>4</td>\n",
       "      <td>145.0</td>\n",
       "      <td>40.3</td>\n",
       "      <td>1.5</td>\n",
       "    </tr>\n",
       "    <tr>\n",
       "      <th>4</th>\n",
       "      <td>2019</td>\n",
       "      <td>16500.0</td>\n",
       "      <td>1</td>\n",
       "      <td>1482.0</td>\n",
       "      <td>4</td>\n",
       "      <td>145.0</td>\n",
       "      <td>48.7</td>\n",
       "      <td>1.0</td>\n",
       "    </tr>\n",
       "  </tbody>\n",
       "</table>\n",
       "</div>"
      ],
      "text/plain": [
       "   year    price  transmission  mileage  fuelType    tax   mpg  engineSize\n",
       "0  2017  12000.0             1  15944.0         4  150.0  57.7         1.0\n",
       "1  2018  14000.0             2   9083.0         4  150.0  57.7         1.0\n",
       "2  2017  13000.0             2  12456.0         4  150.0  57.7         1.0\n",
       "3  2019  17500.0             2  10460.0         4  145.0  40.3         1.5\n",
       "4  2019  16500.0             1   1482.0         4  145.0  48.7         1.0"
      ]
     },
     "execution_count": 79,
     "metadata": {},
     "output_type": "execute_result"
    }
   ],
   "source": [
    "data.head()"
   ]
  },
  {
   "cell_type": "markdown",
   "id": "70297c45-76b0-4015-9585-21a4dde5bdfa",
   "metadata": {},
   "source": [
    "## Chack the Corr-relation"
   ]
  },
  {
   "cell_type": "code",
   "execution_count": 80,
   "id": "33bea7f1-c3b6-42b1-b9d4-aa102a3c5cb2",
   "metadata": {},
   "outputs": [
    {
     "data": {
      "text/plain": [
       "<Axes: >"
      ]
     },
     "execution_count": 80,
     "metadata": {},
     "output_type": "execute_result"
    },
    {
     "data": {
      "image/png": "[encoded data removed]",
      "text/plain": [
       "<Figure size 1000x600 with 2 Axes>"
      ]
     },
     "metadata": {},
     "output_type": "display_data"
    }
   ],
   "source": [
    "plt.figure(figsize=(10,6))\n",
    "sns.heatmap(num_col.corr(),annot=True,cmap='rainbow',linewidth=0.5)"
   ]
  },
  {
   "cell_type": "markdown",
   "id": "f3d22a76-459b-4f3b-8d88-93e47b70bd1d",
   "metadata": {},
   "source": [
    "## Data Preprocessing"
   ]
  },
  {
   "cell_type": "code",
   "execution_count": 81,
   "id": "a81344c3-7346-4428-b10d-8be96f569225",
   "metadata": {},
   "outputs": [],
   "source": [
    "df=data.copy()"
   ]
  },
  {
   "cell_type": "code",
   "execution_count": 82,
   "id": "5af3234c-a18f-47dc-bf1f-29ebc3bbb7c3",
   "metadata": {},
   "outputs": [],
   "source": [
    "## let's scale \n",
    "from sklearn.preprocessing import StandardScaler\n",
    "scaler = StandardScaler()\n",
    "df[['year', 'transmission', 'mileage', 'fuelType', 'tax', 'mpg',\n",
    "    'engineSize']]=scaler.fit_transform(df[['year', 'transmission', 'mileage', 'fuelType', 'tax', 'mpg','engineSize']])"
   ]
  },
  {
   "cell_type": "code",
   "execution_count": null,
   "id": "b387d678-c583-4c32-83d2-37d487cd5abc",
   "metadata": {},
   "outputs": [],
   "source": []
  },
  {
   "cell_type": "markdown",
   "id": "6cd42b9a-f076-49a6-baa7-8fd38720c288",
   "metadata": {},
   "source": [
    "## Create X and y"
   ]
  },
  {
   "cell_type": "code",
   "execution_count": 83,
   "id": "72e7e277-f9e7-4815-8230-d105f9e69630",
   "metadata": {},
   "outputs": [],
   "source": [
    "X = df.drop('price',axis=1)\n",
    "y = df.price"
   ]
  },
  {
   "cell_type": "code",
   "execution_count": 84,
   "id": "d5d54d20-f9b9-4af0-9ef2-ee4bfbe9c380",
   "metadata": {},
   "outputs": [
    {
     "data": {
      "text/html": [
       "<div>\n",
       "<style scoped>\n",
       "    .dataframe tbody tr th:only-of-type {\n",
       "        vertical-align: middle;\n",
       "    }\n",
       "\n",
       "    .dataframe tbody tr th {\n",
       "        vertical-align: top;\n",
       "    }\n",
       "\n",
       "    .dataframe thead th {\n",
       "        text-align: right;\n",
       "    }\n",
       "</style>\n",
       "<table border=\"1\" class=\"dataframe\">\n",
       "  <thead>\n",
       "    <tr style=\"text-align: right;\">\n",
       "      <th></th>\n",
       "      <th>year</th>\n",
       "      <th>transmission</th>\n",
       "      <th>mileage</th>\n",
       "      <th>fuelType</th>\n",
       "      <th>tax</th>\n",
       "      <th>mpg</th>\n",
       "      <th>engineSize</th>\n",
       "    </tr>\n",
       "  </thead>\n",
       "  <tbody>\n",
       "    <tr>\n",
       "      <th>0</th>\n",
       "      <td>-0.042984</td>\n",
       "      <td>-1.521459</td>\n",
       "      <td>-0.336290</td>\n",
       "      <td>0.685399</td>\n",
       "      <td>0.610614</td>\n",
       "      <td>-0.026096</td>\n",
       "      <td>-0.8946</td>\n",
       "    </tr>\n",
       "    <tr>\n",
       "      <th>1</th>\n",
       "      <td>0.597673</td>\n",
       "      <td>0.372628</td>\n",
       "      <td>-0.837449</td>\n",
       "      <td>0.685399</td>\n",
       "      <td>0.610614</td>\n",
       "      <td>-0.026096</td>\n",
       "      <td>-0.8946</td>\n",
       "    </tr>\n",
       "  </tbody>\n",
       "</table>\n",
       "</div>"
      ],
      "text/plain": [
       "       year  transmission   mileage  fuelType       tax       mpg  engineSize\n",
       "0 -0.042984     -1.521459 -0.336290  0.685399  0.610614 -0.026096     -0.8946\n",
       "1  0.597673      0.372628 -0.837449  0.685399  0.610614 -0.026096     -0.8946"
      ]
     },
     "execution_count": 84,
     "metadata": {},
     "output_type": "execute_result"
    }
   ],
   "source": [
    "X.head(2)"
   ]
  },
  {
   "cell_type": "code",
   "execution_count": 85,
   "id": "59674dad-d13a-4ffc-a1d6-f8b647ff7290",
   "metadata": {},
   "outputs": [
    {
     "data": {
      "text/plain": [
       "0    12000.0\n",
       "1    14000.0\n",
       "Name: price, dtype: float64"
      ]
     },
     "execution_count": 85,
     "metadata": {},
     "output_type": "execute_result"
    }
   ],
   "source": [
    "y.head(2)"
   ]
  },
  {
   "cell_type": "code",
   "execution_count": 86,
   "id": "d78147c7-9d08-4976-acd5-339aa6c48d50",
   "metadata": {},
   "outputs": [
    {
     "data": {
      "text/html": [
       "<div>\n",
       "<style scoped>\n",
       "    .dataframe tbody tr th:only-of-type {\n",
       "        vertical-align: middle;\n",
       "    }\n",
       "\n",
       "    .dataframe tbody tr th {\n",
       "        vertical-align: top;\n",
       "    }\n",
       "\n",
       "    .dataframe thead th {\n",
       "        text-align: right;\n",
       "    }\n",
       "</style>\n",
       "<table border=\"1\" class=\"dataframe\">\n",
       "  <thead>\n",
       "    <tr style=\"text-align: right;\">\n",
       "      <th></th>\n",
       "      <th>year</th>\n",
       "      <th>price</th>\n",
       "      <th>transmission</th>\n",
       "      <th>mileage</th>\n",
       "      <th>fuelType</th>\n",
       "      <th>tax</th>\n",
       "      <th>mpg</th>\n",
       "      <th>engineSize</th>\n",
       "    </tr>\n",
       "  </thead>\n",
       "  <tbody>\n",
       "    <tr>\n",
       "      <th>0</th>\n",
       "      <td>-0.042984</td>\n",
       "      <td>12000.0</td>\n",
       "      <td>-1.521459</td>\n",
       "      <td>-0.336290</td>\n",
       "      <td>0.685399</td>\n",
       "      <td>0.610614</td>\n",
       "      <td>-0.026096</td>\n",
       "      <td>-0.894600</td>\n",
       "    </tr>\n",
       "    <tr>\n",
       "      <th>1</th>\n",
       "      <td>0.597673</td>\n",
       "      <td>14000.0</td>\n",
       "      <td>0.372628</td>\n",
       "      <td>-0.837449</td>\n",
       "      <td>0.685399</td>\n",
       "      <td>0.610614</td>\n",
       "      <td>-0.026096</td>\n",
       "      <td>-0.894600</td>\n",
       "    </tr>\n",
       "    <tr>\n",
       "      <th>2</th>\n",
       "      <td>-0.042984</td>\n",
       "      <td>13000.0</td>\n",
       "      <td>0.372628</td>\n",
       "      <td>-0.591070</td>\n",
       "      <td>0.685399</td>\n",
       "      <td>0.610614</td>\n",
       "      <td>-0.026096</td>\n",
       "      <td>-0.894600</td>\n",
       "    </tr>\n",
       "    <tr>\n",
       "      <th>3</th>\n",
       "      <td>1.238329</td>\n",
       "      <td>17500.0</td>\n",
       "      <td>0.372628</td>\n",
       "      <td>-0.736867</td>\n",
       "      <td>0.685399</td>\n",
       "      <td>0.528294</td>\n",
       "      <td>-1.905026</td>\n",
       "      <td>0.426955</td>\n",
       "    </tr>\n",
       "    <tr>\n",
       "      <th>4</th>\n",
       "      <td>1.238329</td>\n",
       "      <td>16500.0</td>\n",
       "      <td>-1.521459</td>\n",
       "      <td>-1.392661</td>\n",
       "      <td>0.685399</td>\n",
       "      <td>0.528294</td>\n",
       "      <td>-0.997956</td>\n",
       "      <td>-0.894600</td>\n",
       "    </tr>\n",
       "  </tbody>\n",
       "</table>\n",
       "</div>"
      ],
      "text/plain": [
       "       year    price  transmission   mileage  fuelType       tax       mpg  \\\n",
       "0 -0.042984  12000.0     -1.521459 -0.336290  0.685399  0.610614 -0.026096   \n",
       "1  0.597673  14000.0      0.372628 -0.837449  0.685399  0.610614 -0.026096   \n",
       "2 -0.042984  13000.0      0.372628 -0.591070  0.685399  0.610614 -0.026096   \n",
       "3  1.238329  17500.0      0.372628 -0.736867  0.685399  0.528294 -1.905026   \n",
       "4  1.238329  16500.0     -1.521459 -1.392661  0.685399  0.528294 -0.997956   \n",
       "\n",
       "   engineSize  \n",
       "0   -0.894600  \n",
       "1   -0.894600  \n",
       "2   -0.894600  \n",
       "3    0.426955  \n",
       "4   -0.894600  "
      ]
     },
     "execution_count": 86,
     "metadata": {},
     "output_type": "execute_result"
    }
   ],
   "source": [
    "df.head()"
   ]
  },
  {
   "cell_type": "code",
   "execution_count": 87,
   "id": "818bbbb0-1f04-42c5-a5c0-4d3298de4af4",
   "metadata": {},
   "outputs": [],
   "source": [
    "## split the Data\n",
    "from sklearn.model_selection import train_test_split\n",
    "X_train,X_test,y_train,y_test = train_test_split(X,y,test_size=0.20,\n",
    "                                                 random_state=14)"
   ]
  },
  {
   "cell_type": "code",
   "execution_count": 88,
   "id": "6eb283ed-4814-4004-8a5b-fc507aa8a1dc",
   "metadata": {},
   "outputs": [
    {
     "data": {
      "text/plain": [
       "(14248, 7)"
      ]
     },
     "execution_count": 88,
     "metadata": {},
     "output_type": "execute_result"
    }
   ],
   "source": [
    "X_train.shape"
   ]
  },
  {
   "cell_type": "code",
   "execution_count": 89,
   "id": "775f06a5-556f-4cdf-b589-a932fb8ac725",
   "metadata": {},
   "outputs": [
    {
     "data": {
      "text/plain": [
       "(3563,)"
      ]
     },
     "execution_count": 89,
     "metadata": {},
     "output_type": "execute_result"
    }
   ],
   "source": [
    "y_test.shape"
   ]
  },
  {
   "cell_type": "code",
   "execution_count": null,
   "id": "182f1891-2074-44d0-938d-ee1bf8a0d585",
   "metadata": {},
   "outputs": [],
   "source": []
  },
  {
   "cell_type": "markdown",
   "id": "4f462866-56e5-476b-88d8-473d9d2d01ae",
   "metadata": {},
   "source": [
    "# Create Model Creation"
   ]
  },
  {
   "cell_type": "code",
   "execution_count": 91,
   "id": "c9d86986-6f4c-498e-bb8b-05beb08b91b4",
   "metadata": {},
   "outputs": [
    {
     "name": "stdout",
     "output_type": "stream",
     "text": [
      "The best max_depth is:10\n"
     ]
    }
   ],
   "source": [
    "## Best max_depth for my model\n",
    "\n",
    "from sklearn.model_selection import GridSearchCV\n",
    "from sklearn.tree import DecisionTreeRegressor\n",
    "\n",
    "dt = DecisionTreeRegressor()\n",
    "param_grid = {'max_depth': range(1, 20)}\n",
    "\n",
    "grid_search = GridSearchCV(dt, param_grid, cv=5, scoring='r2')\n",
    "grid_search.fit(X_train, y_train)\n",
    "\n",
    "best_max_depth = grid_search.best_params_['max_depth']\n",
    "print(f'The best max_depth is:{best_max_depth}')"
   ]
  },
  {
   "cell_type": "markdown",
   "id": "905297b2-0cdf-4136-937a-a6fcc7394661",
   "metadata": {},
   "source": [
    "## Model -1 Decision Tree Regressor"
   ]
  },
  {
   "cell_type": "code",
   "execution_count": null,
   "id": "48ef734b-4dbf-4f5a-80e6-a803bd221ea7",
   "metadata": {},
   "outputs": [],
   "source": []
  },
  {
   "cell_type": "code",
   "execution_count": 92,
   "id": "58052035-1494-46fa-a9a7-8a47c7362236",
   "metadata": {},
   "outputs": [],
   "source": [
    "## Model Creation \n",
    "from sklearn.tree import DecisionTreeRegressor\n",
    "dt = DecisionTreeRegressor(max_depth=10)\n",
    "dt.fit(X_train,y_train)\n",
    "dt_predict = dt.predict(X_test)"
   ]
  },
  {
   "cell_type": "code",
   "execution_count": 93,
   "id": "2d889480-c098-4d96-8dff-986819b67dc0",
   "metadata": {},
   "outputs": [],
   "source": [
    "## chack metrics\n",
    "from sklearn.metrics import r2_score,mean_squared_error,mean_absolute_error,classification_report"
   ]
  },
  {
   "cell_type": "code",
   "execution_count": 94,
   "id": "ec3602d1-824b-4353-ba73-32c2b6b65260",
   "metadata": {},
   "outputs": [
    {
     "data": {
      "text/plain": [
       "0.8479806993449511"
      ]
     },
     "execution_count": 94,
     "metadata": {},
     "output_type": "execute_result"
    }
   ],
   "source": [
    "r2_score(y_test,dt_predict)"
   ]
  },
  {
   "cell_type": "code",
   "execution_count": 95,
   "id": "d0a94a0d-8314-4810-a0a5-3a7822ef82f7",
   "metadata": {},
   "outputs": [
    {
     "name": "stdout",
     "output_type": "stream",
     "text": [
      "MSE:2620465.780977892\n"
     ]
    }
   ],
   "source": [
    "MSE = mean_squared_error(y_test,dt_predict)\n",
    "print(f'MSE:{MSE}')"
   ]
  },
  {
   "cell_type": "code",
   "execution_count": 96,
   "id": "db430d87-57c7-4c85-a7b3-babd530578be",
   "metadata": {},
   "outputs": [
    {
     "name": "stdout",
     "output_type": "stream",
     "text": [
      "MAE:1068.9465982551203\n"
     ]
    }
   ],
   "source": [
    "MAE = mean_absolute_error(y_test,dt_predict)\n",
    "print(f'MAE:{MAE}')"
   ]
  },
  {
   "cell_type": "code",
   "execution_count": null,
   "id": "f3f530fa-e21d-4a06-8aa6-d46cb64fcd0b",
   "metadata": {},
   "outputs": [],
   "source": []
  },
  {
   "cell_type": "markdown",
   "id": "6343246d-dad5-46af-bc03-f7b5c0d9f960",
   "metadata": {
    "jp-MarkdownHeadingCollapsed": true
   },
   "source": [
    "## Cross Val Score cheack "
   ]
  },
  {
   "cell_type": "code",
   "execution_count": 97,
   "id": "c54ae9ff-059b-43c4-acf9-d9d8b992678e",
   "metadata": {},
   "outputs": [
    {
     "name": "stdout",
     "output_type": "stream",
     "text": [
      "[0.85764361 0.82693402 0.46559058]\n",
      "Cross validation Score: 0.7167227357020064\n",
      "Std : 0.17801926785958316\n"
     ]
    }
   ],
   "source": [
    "from sklearn.model_selection import cross_val_score\n",
    "scores = cross_val_score(dt,X,y,cv=3,scoring='r2')\n",
    "print(scores)\n",
    "print(\"Cross validation Score:\",scores.mean())\n",
    "print(\"Std :\",scores.std())"
   ]
  },
  {
   "cell_type": "code",
   "execution_count": 98,
   "id": "42822847-06eb-4255-987b-b70653ae1acf",
   "metadata": {},
   "outputs": [
    {
     "name": "stdout",
     "output_type": "stream",
     "text": [
      "Fitting 3 folds for each of 100 candidates, totalling 300 fits\n",
      "Best Paramaters:{'n_estimators': 300, 'min_samples_split': 3, 'min_samples_leaf': 2, 'max_features': 'log2', 'max_depth': 14, 'bootstrap': False}\n"
     ]
    }
   ],
   "source": [
    "## Search Best Paramaters for My Model\n",
    "\n",
    "from sklearn.ensemble import RandomForestRegressor\n",
    "from sklearn.model_selection import RandomizedSearchCV\n",
    "\n",
    "param_grid = {'n_estimators': [50, 100, 150, 200, 250, 300],\n",
    "              'max_depth':(list(range(1,20))),\n",
    "              'min_samples_split':(list(range(1,10))),\n",
    "              'min_samples_leaf':(list(range(1,6))),\n",
    "              'max_features':['auto','sqrt','log2'],\n",
    "              'bootstrap':[True,False]\n",
    "             }\n",
    "\n",
    "\n",
    "rf = RandomForestRegressor()\n",
    "rand_search = RandomizedSearchCV(estimator=rf, param_distributions=param_grid, cv=3, scoring='r2', verbose=2,n_jobs=-1,n_iter=100,random_state=42)\n",
    "\n",
    "rand_search.fit(X_train, y_train)\n",
    "best_n_estimators = rand_search.best_params_\n",
    "print(f'Best Paramaters:{best_n_estimators}')\n"
   ]
  },
  {
   "cell_type": "markdown",
   "id": "174d9ff3-391c-42c2-8123-fae0e99980f1",
   "metadata": {},
   "source": [
    "## Model :2 Random Forest Regressor"
   ]
  },
  {
   "cell_type": "code",
   "execution_count": 99,
   "id": "33d08ea0-4428-4cd6-9006-b50e276d109e",
   "metadata": {},
   "outputs": [],
   "source": [
    "from sklearn.ensemble import RandomForestRegressor\n",
    "rf = RandomForestRegressor(n_estimators=300,min_samples_split=3,min_samples_leaf=2,max_features='log2',max_depth=14,bootstrap=False)\n",
    "rf.fit(X_train,y_train)\n",
    "rf_pred = rf.predict(X_test)\n"
   ]
  },
  {
   "cell_type": "code",
   "execution_count": 100,
   "id": "57c86eab-33f8-4b06-bd59-cb07feec0538",
   "metadata": {},
   "outputs": [
    {
     "data": {
      "text/plain": [
       "0.874950333622961"
      ]
     },
     "execution_count": 100,
     "metadata": {},
     "output_type": "execute_result"
    }
   ],
   "source": [
    "r2_score(y_test,rf_pred)"
   ]
  },
  {
   "cell_type": "code",
   "execution_count": 101,
   "id": "784509bc-123e-4221-898f-4b33fee6f110",
   "metadata": {},
   "outputs": [
    {
     "data": {
      "text/plain": [
       "2155570.8403586117"
      ]
     },
     "execution_count": 101,
     "metadata": {},
     "output_type": "execute_result"
    }
   ],
   "source": [
    "mean_squared_error(y_test,rf_pred)"
   ]
  },
  {
   "cell_type": "code",
   "execution_count": 102,
   "id": "20be6345-4321-4258-8317-578c3fc375f6",
   "metadata": {},
   "outputs": [
    {
     "data": {
      "text/plain": [
       "992.168929212968"
      ]
     },
     "execution_count": 102,
     "metadata": {},
     "output_type": "execute_result"
    }
   ],
   "source": [
    "mean_absolute_error(y_test,rf_pred)"
   ]
  },
  {
   "cell_type": "code",
   "execution_count": null,
   "id": "d6f8c0eb-3100-466e-8c51-ca7be4a4e848",
   "metadata": {},
   "outputs": [],
   "source": []
  },
  {
   "cell_type": "markdown",
   "id": "4381f823-6dda-4d55-970a-6c1df4f6290e",
   "metadata": {
    "jp-MarkdownHeadingCollapsed": true
   },
   "source": [
    "## Cross Val Score cheack "
   ]
  },
  {
   "cell_type": "code",
   "execution_count": 103,
   "id": "e42c7999-557e-41ba-80fb-a9a911bb0dea",
   "metadata": {},
   "outputs": [
    {
     "name": "stdout",
     "output_type": "stream",
     "text": [
      "[0.88562761 0.86195966 0.57146757]\n",
      "Cross validation Score: 0.7730182822047968\n",
      "Std : 0.14284504127073008\n"
     ]
    }
   ],
   "source": [
    "from sklearn.model_selection import cross_val_score\n",
    "scores = cross_val_score(rf,X,y,cv=3,scoring='r2')\n",
    "print(scores)\n",
    "print(\"Cross validation Score:\",scores.mean())\n",
    "print(\"Std :\",scores.std())"
   ]
  },
  {
   "cell_type": "code",
   "execution_count": null,
   "id": "3efe888f-ddbe-437b-a7df-b65013033bfb",
   "metadata": {},
   "outputs": [],
   "source": []
  },
  {
   "cell_type": "code",
   "execution_count": null,
   "id": "319ef935-1762-41aa-bf8a-8ef5afa943ec",
   "metadata": {},
   "outputs": [],
   "source": []
  },
  {
   "cell_type": "markdown",
   "id": "88b3586c-26e8-4574-bfc0-60410d21d6bd",
   "metadata": {},
   "source": [
    "## Model :3 XGBRegressor"
   ]
  },
  {
   "cell_type": "code",
   "execution_count": 104,
   "id": "2841e4f5-03a0-4b10-948b-f02eacf2c0e4",
   "metadata": {},
   "outputs": [],
   "source": [
    "from xgboost import XGBRegressor\n",
    "xgb = XGBRegressor(n_estimators=150)\n",
    "xgb.fit(X_train,y_train)\n",
    "xgb_pred = xgb.predict(X_test)"
   ]
  },
  {
   "cell_type": "code",
   "execution_count": 105,
   "id": "882b2086-5a9a-4a15-95e6-c056cc8855d7",
   "metadata": {},
   "outputs": [
    {
     "data": {
      "text/plain": [
       "0.8663890485461224"
      ]
     },
     "execution_count": 105,
     "metadata": {},
     "output_type": "execute_result"
    }
   ],
   "source": [
    "r2_score(y_test,xgb_pred)"
   ]
  },
  {
   "cell_type": "code",
   "execution_count": 106,
   "id": "77ad90fa-db90-41dc-9433-4b11e8dd0294",
   "metadata": {},
   "outputs": [
    {
     "data": {
      "text/plain": [
       "2303147.8551743757"
      ]
     },
     "execution_count": 106,
     "metadata": {},
     "output_type": "execute_result"
    }
   ],
   "source": [
    "mean_squared_error(y_test,xgb_pred)"
   ]
  },
  {
   "cell_type": "code",
   "execution_count": 107,
   "id": "38dce85a-9449-49b0-bb7d-d7ed0c4a8880",
   "metadata": {},
   "outputs": [
    {
     "data": {
      "text/plain": [
       "991.6153299780597"
      ]
     },
     "execution_count": 107,
     "metadata": {},
     "output_type": "execute_result"
    }
   ],
   "source": [
    "mean_absolute_error(y_test,xgb_pred)"
   ]
  },
  {
   "cell_type": "code",
   "execution_count": null,
   "id": "096f2172-d53e-498f-ab24-ab7f668885b7",
   "metadata": {},
   "outputs": [],
   "source": []
  },
  {
   "cell_type": "markdown",
   "id": "09276362-4330-4313-b103-890ea603e4f8",
   "metadata": {},
   "source": [
    "## Model :4 XGB Regressor with GridSearchCV"
   ]
  },
  {
   "cell_type": "code",
   "execution_count": 108,
   "id": "9bc2d199-c436-48bb-9201-af8ee4d24a65",
   "metadata": {},
   "outputs": [
    {
     "name": "stdout",
     "output_type": "stream",
     "text": [
      "Fitting 3 folds for each of 6 candidates, totalling 18 fits\n",
      "[CV 1/3] END ...................n_estimators=50;, score=0.870 total time=   0.2s\n",
      "[CV 2/3] END ...................n_estimators=50;, score=0.869 total time=   0.3s\n",
      "[CV 3/3] END ...................n_estimators=50;, score=0.876 total time=   0.1s\n",
      "[CV 1/3] END ..................n_estimators=100;, score=0.872 total time=   0.3s\n",
      "[CV 2/3] END ..................n_estimators=100;, score=0.869 total time=   0.4s\n",
      "[CV 3/3] END ..................n_estimators=100;, score=0.874 total time=   0.5s\n",
      "[CV 1/3] END ..................n_estimators=150;, score=0.870 total time=   0.6s\n",
      "[CV 2/3] END ..................n_estimators=150;, score=0.866 total time=   0.7s\n",
      "[CV 3/3] END ..................n_estimators=150;, score=0.872 total time=   0.6s\n",
      "[CV 1/3] END ..................n_estimators=200;, score=0.870 total time=   0.7s\n",
      "[CV 2/3] END ..................n_estimators=200;, score=0.863 total time=   1.2s\n",
      "[CV 3/3] END ..................n_estimators=200;, score=0.870 total time=   0.7s\n",
      "[CV 1/3] END ..................n_estimators=250;, score=0.866 total time=   1.4s\n",
      "[CV 2/3] END ..................n_estimators=250;, score=0.861 total time=   1.1s\n",
      "[CV 3/3] END ..................n_estimators=250;, score=0.868 total time=   1.0s\n",
      "[CV 1/3] END ..................n_estimators=300;, score=0.864 total time=   1.3s\n",
      "[CV 2/3] END ..................n_estimators=300;, score=0.858 total time=   1.5s\n",
      "[CV 3/3] END ..................n_estimators=300;, score=0.866 total time=   1.3s\n",
      "Best paramaters:100\n"
     ]
    }
   ],
   "source": [
    "## Search Best estimators for My Model\n",
    "from sklearn.model_selection import GridSearchCV\n",
    "from xgboost import XGBRegressor \n",
    "params = {'n_estimators':[50,100,150,200,250,300]}\n",
    "\n",
    "xgb = XGBRegressor(verbosity=2,random_state=42)\n",
    "grid_search = GridSearchCV(param_grid=params,estimator=xgb,scoring='r2',cv=3,verbose=3)\n",
    "\n",
    "grid_search.fit(X_train,y_train)\n",
    "best_n_estimators = grid_search.best_params_['n_estimators']\n",
    "print(f'Best paramaters:{best_n_estimators}')\n"
   ]
  },
  {
   "cell_type": "code",
   "execution_count": 130,
   "id": "362eb9bd-34f7-4067-9b8a-dba0251feb3d",
   "metadata": {},
   "outputs": [],
   "source": [
    "from xgboost import XGBRegressor\n",
    "xgb2 = XGBRegressor(n_estimators=50)\n",
    "xgb2.fit(X_train,y_train)\n",
    "xgb_pred2 = xgb2.predict(X_test)"
   ]
  },
  {
   "cell_type": "code",
   "execution_count": 131,
   "id": "97bd1a82-389e-4532-9099-6e751f5ad7ef",
   "metadata": {},
   "outputs": [
    {
     "data": {
      "text/plain": [
       "0.8714162477802039"
      ]
     },
     "execution_count": 131,
     "metadata": {},
     "output_type": "execute_result"
    }
   ],
   "source": [
    "r2_score(y_test,xgb_pred2)"
   ]
  },
  {
   "cell_type": "code",
   "execution_count": 132,
   "id": "f2a582b4-61be-40d0-8465-4711bb3e1bc5",
   "metadata": {},
   "outputs": [
    {
     "data": {
      "text/plain": [
       "2216490.4142421805"
      ]
     },
     "execution_count": 132,
     "metadata": {},
     "output_type": "execute_result"
    }
   ],
   "source": [
    "mean_squared_error(y_test,xgb_pred2)"
   ]
  },
  {
   "cell_type": "code",
   "execution_count": 133,
   "id": "96f28835-120e-4ebc-97be-876882037f8b",
   "metadata": {},
   "outputs": [
    {
     "data": {
      "text/plain": [
       "990.7346291687421"
      ]
     },
     "execution_count": 133,
     "metadata": {},
     "output_type": "execute_result"
    }
   ],
   "source": [
    "mean_absolute_error(y_test,xgb_pred2)"
   ]
  },
  {
   "cell_type": "code",
   "execution_count": null,
   "id": "a96165b6-b4cf-405c-8459-a9318f128b96",
   "metadata": {},
   "outputs": [],
   "source": []
  },
  {
   "cell_type": "markdown",
   "id": "34d35f51-c5c2-43fa-bb6f-d03f36c7481f",
   "metadata": {},
   "source": [
    "## Model :5 XGB Regressor with RandomizedSearchCV"
   ]
  },
  {
   "cell_type": "code",
   "execution_count": 113,
   "id": "1d6f695f-c2d7-47ad-a0e2-0bc4e60f72b6",
   "metadata": {},
   "outputs": [
    {
     "name": "stdout",
     "output_type": "stream",
     "text": [
      "Fitting 3 folds for each of 100 candidates, totalling 300 fits\n",
      "Best Paramators:{'reg_lambda': 12.6, 'rag_alpha': 0.8, 'n_estimators': 250, 'max_depth': 7, 'learning_rate': 0.1, 'gamma': 0}\n"
     ]
    }
   ],
   "source": [
    "from sklearn.model_selection import RandomizedSearchCV\n",
    "params_grid = {\n",
    "    'gamma':[0.1,00,0.2,0.3,1.6,4.7,12.01,65,200],\n",
    "    'learning_rate':[0.1,0.001,0.001,0.2,0.3],\n",
    "    'n_estimators':[50,100,150,200,250,300],\n",
    "    'max_depth':(list(range(1,20))),\n",
    "    'reg_lambda':[0.1,0.01,0.2,0.3,0.4,0.8,6.4,12.6],\n",
    "    'rag_alpha':[0.1,0.01,0.2,0.3,0.4,0.8,6.4,12.6]\n",
    "}\n",
    "\n",
    "xgb = XGBRegressor(varbosity=2,random_state=42)\n",
    "grid_search = RandomizedSearchCV(param_distributions=params_grid,estimator=xgb,cv=3,verbose=2,scoring='r2',n_iter=100,n_jobs=-1)\n",
    "\n",
    "grid_search.fit(X_train,y_train)\n",
    "best_param = grid_search.best_params_\n",
    "print(f'Best Paramators:{best_param}')"
   ]
  },
  {
   "cell_type": "code",
   "execution_count": 116,
   "id": "b2a0cf87-9073-4bd8-8685-e2e50098ea29",
   "metadata": {},
   "outputs": [],
   "source": [
    "xgb3 = XGBRegressor(rag_lambda=12.6,rag_alpha=0.8,n_estimators=250,max_depth=7,learning_rate=0.1,gamma=0)\n",
    "xgb3.fit(X_train,y_train)\n",
    "xgb_pred3 = xgb3.predict(X_test)\n"
   ]
  },
  {
   "cell_type": "code",
   "execution_count": 117,
   "id": "963c55f2-0665-4df9-bb76-cdd0fc593701",
   "metadata": {},
   "outputs": [
    {
     "data": {
      "text/plain": [
       "0.8742775945986553"
      ]
     },
     "execution_count": 117,
     "metadata": {},
     "output_type": "execute_result"
    }
   ],
   "source": [
    "r2_score(y_test,xgb_pred3)"
   ]
  },
  {
   "cell_type": "code",
   "execution_count": 118,
   "id": "044b61b3-5b8e-4800-ab47-0c844646853d",
   "metadata": {},
   "outputs": [
    {
     "data": {
      "text/plain": [
       "959.3222833716497"
      ]
     },
     "execution_count": 118,
     "metadata": {},
     "output_type": "execute_result"
    }
   ],
   "source": [
    "mean_absolute_error(y_test,xgb_pred3)"
   ]
  },
  {
   "cell_type": "code",
   "execution_count": 119,
   "id": "e79c1517-09db-4a5e-9cbd-c9da29f7e3f2",
   "metadata": {},
   "outputs": [
    {
     "data": {
      "text/plain": [
       "2167167.3257070202"
      ]
     },
     "execution_count": 119,
     "metadata": {},
     "output_type": "execute_result"
    }
   ],
   "source": [
    "mean_squared_error(y_test,xgb_pred3)"
   ]
  },
  {
   "cell_type": "code",
   "execution_count": null,
   "id": "c577e641-fe07-4938-be47-1b52c5961a0f",
   "metadata": {},
   "outputs": [],
   "source": []
  },
  {
   "cell_type": "markdown",
   "id": "8854e295-fffe-4584-b0e5-287e9a9ee02e",
   "metadata": {},
   "source": [
    "## Model :6 Bagging Regressor"
   ]
  },
  {
   "cell_type": "code",
   "execution_count": 120,
   "id": "6f078031-f3a5-4688-9a83-3a2e62d280da",
   "metadata": {},
   "outputs": [],
   "source": [
    "from sklearn.ensemble import BaggingRegressor\n",
    "bagg = BaggingRegressor()\n",
    "bagg.fit(X_train,y_train)\n",
    "bagg_pred = bagg.predict(X_test)\n"
   ]
  },
  {
   "cell_type": "code",
   "execution_count": 121,
   "id": "67959e07-a9fc-401f-88f3-13755ddafe78",
   "metadata": {},
   "outputs": [
    {
     "data": {
      "text/plain": [
       "0.8454190090970246"
      ]
     },
     "execution_count": 121,
     "metadata": {},
     "output_type": "execute_result"
    }
   ],
   "source": [
    "r2_score(y_test,bagg_pred)"
   ]
  },
  {
   "cell_type": "code",
   "execution_count": 122,
   "id": "e249c03d-5830-4337-8bcf-f825b717a8c1",
   "metadata": {},
   "outputs": [
    {
     "data": {
      "text/plain": [
       "1075.632578721167"
      ]
     },
     "execution_count": 122,
     "metadata": {},
     "output_type": "execute_result"
    }
   ],
   "source": [
    "mean_absolute_error(y_test,bagg_pred)"
   ]
  },
  {
   "cell_type": "code",
   "execution_count": 123,
   "id": "e72b3453-c585-4551-a042-00c37e55b631",
   "metadata": {},
   "outputs": [
    {
     "data": {
      "text/plain": [
       "2664623.474160472"
      ]
     },
     "execution_count": 123,
     "metadata": {},
     "output_type": "execute_result"
    }
   ],
   "source": [
    "mean_squared_error(y_test,bagg_pred)"
   ]
  },
  {
   "cell_type": "code",
   "execution_count": null,
   "id": "1f282181-0f10-4700-93a4-1b026f534eea",
   "metadata": {},
   "outputs": [],
   "source": []
  },
  {
   "cell_type": "code",
   "execution_count": null,
   "id": "1438938e-2ddd-4520-b766-e9b0696efd1e",
   "metadata": {},
   "outputs": [],
   "source": []
  },
  {
   "cell_type": "markdown",
   "id": "657fd179-2258-4225-a3b6-71dfb0b69afc",
   "metadata": {},
   "source": [
    "## Model :7 Bagging Regressor with HyperParamater Tuning"
   ]
  },
  {
   "cell_type": "code",
   "execution_count": 124,
   "id": "16a96df1-6610-4a3a-a0de-1aeea1055e4f",
   "metadata": {},
   "outputs": [],
   "source": [
    "bagg2 = BaggingRegressor(base_estimator=xgb2,\n",
    "                         n_estimators=100,\n",
    "                         max_samples=1.0,\n",
    "                         max_features=1.0,\n",
    "                         bootstrap=True)\n",
    "\n",
    "bagg2.fit(X_train,y_train)\n",
    "bagg2_pred = bagg2.predict(X_test)\n",
    "                     "
   ]
  },
  {
   "cell_type": "code",
   "execution_count": 125,
   "id": "99994dea-cb58-40ed-8c7c-2a2ab0a3f918",
   "metadata": {},
   "outputs": [
    {
     "data": {
      "text/plain": [
       "0.8619985568985938"
      ]
     },
     "execution_count": 125,
     "metadata": {},
     "output_type": "execute_result"
    }
   ],
   "source": [
    "r2_score(bagg2_pred,y_test)"
   ]
  },
  {
   "cell_type": "code",
   "execution_count": 126,
   "id": "5844cd8f-5f2d-4670-91aa-3e3c032424d4",
   "metadata": {},
   "outputs": [
    {
     "data": {
      "text/plain": [
       "2102618.0265393793"
      ]
     },
     "execution_count": 126,
     "metadata": {},
     "output_type": "execute_result"
    }
   ],
   "source": [
    "mean_squared_error(bagg2_pred,y_test)"
   ]
  },
  {
   "cell_type": "code",
   "execution_count": 127,
   "id": "194dd829-932a-4c1d-9443-efba32e2adca",
   "metadata": {},
   "outputs": [
    {
     "data": {
      "text/plain": [
       "962.5063777716284"
      ]
     },
     "execution_count": 127,
     "metadata": {},
     "output_type": "execute_result"
    }
   ],
   "source": [
    "mean_absolute_error(bagg2_pred,y_test)"
   ]
  },
  {
   "cell_type": "code",
   "execution_count": null,
   "id": "6b11d8ef-73d5-4865-adc6-5753ef90807d",
   "metadata": {},
   "outputs": [],
   "source": []
  },
  {
   "cell_type": "code",
   "execution_count": null,
   "id": "6c8ba7d8-96df-466e-a646-2ce5a6c30e50",
   "metadata": {},
   "outputs": [],
   "source": []
  },
  {
   "cell_type": "markdown",
   "id": "9a5a5468-4404-4b0c-8cba-29d1ff472b20",
   "metadata": {},
   "source": [
    "## Model Comparison"
   ]
  },
  {
   "cell_type": "code",
   "execution_count": 134,
   "id": "e201105e-1b41-4397-93c2-a6a772a0f510",
   "metadata": {},
   "outputs": [],
   "source": [
    "df = pd.DataFrame()\n",
    "df['Model']=['Decision Tree','Random Forest Regressor','XGBRegressor','XGBRegressor 2','XGB Hyperparameter','Bagging Regressor','Bagging Regreesor Hyperparameter']\n",
    "df['r2_score'] = [84,87,86,87,87,84,86]\n",
    "df['MAE'] = [1068,992,991,990,959,1075,962]"
   ]
  },
  {
   "cell_type": "code",
   "execution_count": 135,
   "id": "65066adc-025b-4857-9b19-fc4d22beb7c3",
   "metadata": {
    "jp-MarkdownHeadingCollapsed": true
   },
   "outputs": [
    {
     "data": {
      "text/html": [
       "<div>\n",
       "<style scoped>\n",
       "    .dataframe tbody tr th:only-of-type {\n",
       "        vertical-align: middle;\n",
       "    }\n",
       "\n",
       "    .dataframe tbody tr th {\n",
       "        vertical-align: top;\n",
       "    }\n",
       "\n",
       "    .dataframe thead th {\n",
       "        text-align: right;\n",
       "    }\n",
       "</style>\n",
       "<table border=\"1\" class=\"dataframe\">\n",
       "  <thead>\n",
       "    <tr style=\"text-align: right;\">\n",
       "      <th></th>\n",
       "      <th>Model</th>\n",
       "      <th>r2_score</th>\n",
       "      <th>MAE</th>\n",
       "    </tr>\n",
       "  </thead>\n",
       "  <tbody>\n",
       "    <tr>\n",
       "      <th>0</th>\n",
       "      <td>Decision Tree</td>\n",
       "      <td>84</td>\n",
       "      <td>1068</td>\n",
       "    </tr>\n",
       "    <tr>\n",
       "      <th>1</th>\n",
       "      <td>Random Forest Regressor</td>\n",
       "      <td>87</td>\n",
       "      <td>992</td>\n",
       "    </tr>\n",
       "    <tr>\n",
       "      <th>2</th>\n",
       "      <td>XGBRegressor</td>\n",
       "      <td>86</td>\n",
       "      <td>991</td>\n",
       "    </tr>\n",
       "    <tr>\n",
       "      <th>3</th>\n",
       "      <td>XGBRegressor 2</td>\n",
       "      <td>87</td>\n",
       "      <td>990</td>\n",
       "    </tr>\n",
       "    <tr>\n",
       "      <th>4</th>\n",
       "      <td>XGB Hyperparameter</td>\n",
       "      <td>87</td>\n",
       "      <td>959</td>\n",
       "    </tr>\n",
       "    <tr>\n",
       "      <th>5</th>\n",
       "      <td>Bagging Regressor</td>\n",
       "      <td>84</td>\n",
       "      <td>1075</td>\n",
       "    </tr>\n",
       "    <tr>\n",
       "      <th>6</th>\n",
       "      <td>Bagging Regreesor Hyperparameter</td>\n",
       "      <td>86</td>\n",
       "      <td>962</td>\n",
       "    </tr>\n",
       "  </tbody>\n",
       "</table>\n",
       "</div>"
      ],
      "text/plain": [
       "                              Model  r2_score   MAE\n",
       "0                     Decision Tree        84  1068\n",
       "1           Random Forest Regressor        87   992\n",
       "2                      XGBRegressor        86   991\n",
       "3                    XGBRegressor 2        87   990\n",
       "4                XGB Hyperparameter        87   959\n",
       "5                 Bagging Regressor        84  1075\n",
       "6  Bagging Regreesor Hyperparameter        86   962"
      ]
     },
     "execution_count": 135,
     "metadata": {},
     "output_type": "execute_result"
    }
   ],
   "source": [
    "df"
   ]
  },
  {
   "cell_type": "markdown",
   "id": "f93f2f52-893e-429a-8103-7c8e7ac57043",
   "metadata": {},
   "source": [
    "## Coparision using Graph"
   ]
  },
  {
   "cell_type": "code",
   "execution_count": 137,
   "id": "66c1a262-dc19-4d7c-8242-b7620d0d2902",
   "metadata": {},
   "outputs": [
    {
     "data": {
      "image/png": "[encoded data removed]",
      "text/plain": [
       "<Figure size 2000x800 with 1 Axes>"
      ]
     },
     "metadata": {},
     "output_type": "display_data"
    }
   ],
   "source": [
    "plt.figure(figsize=(20,8))\n",
    "sns.set(style='whitegrid')\n",
    "sns.barplot(x='Model',y='r2_score',data=df,hue='Model')\n",
    "plt.title('Model')\n",
    "plt.show()"
   ]
  },
  {
   "cell_type": "markdown",
   "id": "049552eb-4d87-42dc-8d84-fcbb9c43b781",
   "metadata": {},
   "source": [
    "## Summary\n",
    "\n",
    "* **Model Performance:** The overall performance of the models is relatively good, with R-squared scores ranging from approximately 84 to 87. This indicates that the models explain a significant portion of the variance in the target variable.\n",
    "* **Best Model:** Among the models, **Random Forest Regressor**, **XGBRegressor** and **XGBRegressor 2** appear to be the top performers with R-squared scores slightly higher than the others.\n",
    "* **Model Comparison:** The bar plot allows for a quick visual comparison of the models' performance. It's clear that there are some differences in the R-squared scores, but the overall performance is relatively consistent across most models.\n",
    "\n",
    "In conclusion, the plot suggests that the majority of the regression models considered in this analysis are effective in predicting the target variable. However, there are slight variations in performance, with XGBRegressor and XGBRegressor 2 potentially being the preferred choices based on the R-squared scores.\n",
    "\n",
    "Overall, the analysis suggests that the majority of the regression models considered in this study are effective in predicting the target variable. However, there are slight variations in performance, with XGBRegressor 2 and XGB Hyperparameter potentially being the preferred choices based on the combination of R-squared scores and MAEs"
   ]
  },
  {
   "cell_type": "code",
   "execution_count": null,
   "id": "16d715c1-ff6a-4a39-8fde-717e9953c40d",
   "metadata": {},
   "outputs": [],
   "source": []
  }
 ],
 "metadata": {
  "kernelspec": {
   "display_name": "Python 3 (ipykernel)",
   "language": "python",
   "name": "python3"
  },
  "language_info": {
   "codemirror_mode": {
    "name": "ipython",
    "version": 3
   },
   "file_extension": ".py",
   "mimetype": "text/x-python",
   "name": "python",
   "nbconvert_exporter": "python",
   "pygments_lexer": "ipython3",
   "version": "3.11.7"
  }
 },
 "nbformat": 4,
 "nbformat_minor": 5
}
